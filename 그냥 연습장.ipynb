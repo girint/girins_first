{
 "cells": [
  {
   "cell_type": "code",
   "execution_count": 1,
   "id": "f60b52f9-3aca-43f3-80b4-0ad9a286a03f",
   "metadata": {},
   "outputs": [],
   "source": [
    "def print_n_times(n,*values):\n",
    "    for i in range(n):\n",
    "        for value in values:\n",
    "            print(value)\n",
    "        print()"
   ]
  },
  {
   "cell_type": "code",
   "execution_count": 3,
   "id": "563c2e49-9790-422c-8e04-e7fac8db1cda",
   "metadata": {},
   "outputs": [
    {
     "name": "stdout",
     "output_type": "stream",
     "text": [
      "너는\n",
      "4\n",
      "강아지\n",
      "토끼\n",
      "\n",
      "너는\n",
      "4\n",
      "강아지\n",
      "토끼\n",
      "\n",
      "너는\n",
      "4\n",
      "강아지\n",
      "토끼\n",
      "\n",
      "너는\n",
      "4\n",
      "강아지\n",
      "토끼\n",
      "\n",
      "너는\n",
      "4\n",
      "강아지\n",
      "토끼\n",
      "\n"
     ]
    }
   ],
   "source": [
    "print_n_times(5,\"너는\",4,\"강아지\",\"토끼\")"
   ]
  },
  {
   "cell_type": "code",
   "execution_count": 8,
   "id": "d50169a7-fd74-4397-8ac9-8785937819bb",
   "metadata": {},
   "outputs": [],
   "source": [
    "def sum_all(first,second):\n",
    "    output=0\n",
    "    for i in range(first,second+1):\n",
    "        output+=i\n",
    "    return output"
   ]
  },
  {
   "cell_type": "code",
   "execution_count": 11,
   "id": "4421eb29-ebff-4556-915e-361d9561953f",
   "metadata": {},
   "outputs": [
    {
     "data": {
      "text/plain": [
       "0"
      ]
     },
     "execution_count": 11,
     "metadata": {},
     "output_type": "execute_result"
    }
   ],
   "source": [
    "sum_all(100)"
   ]
  },
  {
   "cell_type": "code",
   "execution_count": null,
   "id": "07536ecd-5e33-4a02-8ab3-84211e6df0d7",
   "metadata": {},
   "outputs": [],
   "source": []
  },
  {
   "cell_type": "code",
   "execution_count": null,
   "id": "1211de1b-32cc-4339-a0cc-ea89e0aeca7a",
   "metadata": {},
   "outputs": [],
   "source": []
  }
 ],
 "metadata": {
  "kernelspec": {
   "display_name": "Python 3 (ipykernel)",
   "language": "python",
   "name": "python3"
  },
  "language_info": {
   "codemirror_mode": {
    "name": "ipython",
    "version": 3
   },
   "file_extension": ".py",
   "mimetype": "text/x-python",
   "name": "python",
   "nbconvert_exporter": "python",
   "pygments_lexer": "ipython3",
   "version": "3.13.5"
  }
 },
 "nbformat": 4,
 "nbformat_minor": 5
}
