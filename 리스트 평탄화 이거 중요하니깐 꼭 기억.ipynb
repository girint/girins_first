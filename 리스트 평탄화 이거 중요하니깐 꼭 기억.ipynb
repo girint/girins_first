{
 "cells": [
  {
   "cell_type": "code",
   "execution_count": 2,
   "id": "f94610ba-3f34-4186-bbf9-3de455b1cf96",
   "metadata": {},
   "outputs": [],
   "source": [
    "def flab(data):\n",
    "    output=[]\n",
    "    for item in data:\n",
    "        if type(item) ==list:\n",
    "            output +=flab(item) #재귀함수 이용한 방법이지롱\n",
    "        else:\n",
    "            output.append(item)\n",
    "\n",
    "    return output\n",
    "\n"
   ]
  },
  {
   "cell_type": "code",
   "execution_count": 8,
   "id": "5badf795-8295-4c0f-bf60-e2b2835a9923",
   "metadata": {},
   "outputs": [
    {
     "name": "stdout",
     "output_type": "stream",
     "text": [
      "평탄화 [1, 2, 3, 4, 5, 6, 7, 8, 9, 10, 11, 12, 13, 14, 15, 16, 17, 18]\n"
     ]
    }
   ],
   "source": [
    "ex=[[[1,2],[[3],[4,5]],[[[[6,7],8,9],10,11,12],13,14,15],16,17],18]\n",
    "print(\"평탄화\",flab(ex))"
   ]
  },
  {
   "cell_type": "code",
   "execution_count": null,
   "id": "f7fc838c-2954-4ada-864c-1996000730d6",
   "metadata": {},
   "outputs": [],
   "source": []
  }
 ],
 "metadata": {
  "kernelspec": {
   "display_name": "Python 3 (ipykernel)",
   "language": "python",
   "name": "python3"
  },
  "language_info": {
   "codemirror_mode": {
    "name": "ipython",
    "version": 3
   },
   "file_extension": ".py",
   "mimetype": "text/x-python",
   "name": "python",
   "nbconvert_exporter": "python",
   "pygments_lexer": "ipython3",
   "version": "3.13.5"
  }
 },
 "nbformat": 4,
 "nbformat_minor": 5
}
