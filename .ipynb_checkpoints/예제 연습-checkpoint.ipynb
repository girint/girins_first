{
 "cells": [
  {
   "cell_type": "code",
   "execution_count": 40,
   "id": "ae213ef6-1327-4dbb-b63d-0e0806be8305",
   "metadata": {
    "scrolled": true
   },
   "outputs": [
    {
     "name": "stdin",
     "output_type": "stream",
     "text": [
      "숫자를 넣어봐 : 20\n"
     ]
    },
    {
     "name": "stdout",
     "output_type": "stream",
     "text": [
      "                  ★\n",
      "                 *!*\n",
      "                *!*!*\n",
      "               *!*!*!*\n",
      "              *!*!*!*!*\n",
      "             *!*!*!*!*!*\n",
      "            *!*!*!*!*!*!*\n",
      "           *!*!*!*!*!*!*!*\n",
      "          *!*!*!*!*!*!*!*!*\n",
      "         *!*!*!*!*!*!*!*!*!*\n",
      "        *!*!*!*!*!*!*!*!*!*!*\n",
      "       *!*!*!*!*!*!*!*!*!*!*!*\n",
      "      *!*!*!*!*!*!*!*!*!*!*!*!*\n",
      "     *!*!*!*!*!*!*!*!*!*!*!*!*!*\n",
      "    *!*!*!*!*!*!*!*!*!*!*!*!*!*!*\n",
      "   *!*!*!*!*!*!*!*!*!*!*!*!*!*!*!*\n",
      "  *!*!*!*!*!*!*!*!*!*!*!*!*!*!*!*!*\n",
      " *!*!*!*!*!*!*!*!*!*!*!*!*!*!*!*!*!*\n",
      "*!*!*!*!*!*!*!*!*!*!*!*!*!*!*!*!*!*!*\n"
     ]
    }
   ],
   "source": [
    "#237p\n",
    "\n",
    "num=int(input(\"숫자를 넣어봐 :\"))\n",
    "for i in range(1,num):\n",
    "    a=''\n",
    "    b=''\n",
    "    for j in range(i,num-1):\n",
    "        a+=' '\n",
    "    for k in range(0,2*i-1):\n",
    "        if 2*i-1==1:\n",
    "            a+='★'\n",
    "            break\n",
    "        if k%2!=0:\n",
    "            a+=\"!\"\n",
    "        else:\n",
    "            a+='*'\n",
    "    print(a)"
   ]
  },
  {
   "cell_type": "code",
   "execution_count": 42,
   "id": "2f9cf897-568d-4817-ae49-e0736a0f834c",
   "metadata": {},
   "outputs": [
    {
     "data": {
      "text/plain": [
       "[1, 1]"
      ]
     },
     "execution_count": 42,
     "metadata": {},
     "output_type": "execute_result"
    }
   ],
   "source": [
    "#242p  리스트에 특정 문자 없애기\n",
    "\n",
    "list=[1,2,1,2]\n",
    "value=2\n",
    "\n",
    "while value in list:\n",
    "    list.remove(value)\n",
    "\n",
    "list"
   ]
  },
  {
   "cell_type": "code",
   "execution_count": 59,
   "id": "01312b03-8bcc-412f-985c-0ab421511e53",
   "metadata": {},
   "outputs": [
    {
     "name": "stdout",
     "output_type": "stream",
     "text": [
      "29521045\n"
     ]
    }
   ],
   "source": [
    "#243p 내가 원하는 시간만큼 코드를 돌릴수 있는 방법\n",
    "\n",
    "import time\n",
    "\n",
    "number=0\n",
    "\n",
    "target_tick=time.time()+5\n",
    "\n",
    "while time.time() < target_tick:\n",
    "    number +=1\n",
    "print(number) #여기서 나오는 넘버는 컴퓨터 성능에 따라 바뀜"
   ]
  },
  {
   "cell_type": "code",
   "execution_count": 69,
   "id": "2d39696f-c212-45cc-b101-4351fb9b8ab3",
   "metadata": {},
   "outputs": [
    {
     "name": "stdout",
     "output_type": "stream",
     "text": [
      "{'name': '기린', 'hp': 200, 'mp': 30, 'level': 5}\n"
     ]
    }
   ],
   "source": [
    "#248p #키 벨류 값을 딕셔너리로 묶는 방법\n",
    "key_list=[\"name\",\"hp\",\"mp\",\"level\"]\n",
    "value_list=[\"기린\",200,30,5]\n",
    "charater={}\n",
    "\n",
    "for i in range(0,len(key_list)):\n",
    "    charater[key_list[i]]=value_list[i]\n",
    "    \n",
    "\n",
    "print(charater)"
   ]
  },
  {
   "cell_type": "code",
   "execution_count": 78,
   "id": "9aa37131-f51d-46ed-b279-92c2a64672bd",
   "metadata": {},
   "outputs": [
    {
     "name": "stdout",
     "output_type": "stream",
     "text": [
      "142을 더할 때 10000을 넘으며 그떄의 값은 10011 입니다\n"
     ]
    }
   ],
   "source": [
    "#248p 피보나치수열 만들기\n",
    "\n",
    "limit=10000\n",
    "i=1\n",
    "sum_value=0\n",
    "while sum_value<limit:\n",
    "    sum_value= sum_value+i\n",
    "    i+=1\n",
    "print(\"%d을 더할 때 10000을 넘으며 그떄의 값은 %d 입니다\"%(i,sum_value))"
   ]
  },
  {
   "cell_type": "code",
   "execution_count": 84,
   "id": "19b2b5da-26fa-4b97-a550-9ecbbc2837a5",
   "metadata": {},
   "outputs": [
    {
     "name": "stdout",
     "output_type": "stream",
     "text": [
      "최대가 되는 경우 :  50 * 50 = 2500\n"
     ]
    }
   ],
   "source": [
    "#249p\n",
    "\n",
    "max_value=0\n",
    "a=0\n",
    "b=0\n",
    "\n",
    "for i in range(1,100):\n",
    "    j=100-i\n",
    "    max_value1=i*j\n",
    "    if max_value1 >max_value:\n",
    "        max_value =max_value1\n",
    "        a=i\n",
    "        b=j\n",
    "print(\"최대가 되는 경우 :  {} * {} = {}\".format(a,b,max_value))"
   ]
  },
  {
   "cell_type": "code",
   "execution_count": 86,
   "id": "eea4e2ae-2978-4046-9f8b-3280df1067f5",
   "metadata": {},
   "outputs": [
    {
     "name": "stdin",
     "output_type": "stream",
     "text": [
      "정수 입력:  30\n"
     ]
    },
    {
     "name": "stdout",
     "output_type": "stream",
     "text": [
      "입력한 문자열은 30입니다\n",
      "30는 짝수입니다.\n"
     ]
    }
   ],
   "source": [
    "#264p\n",
    "\n",
    "number=int(input(\"정수 입력: \"))\n",
    "if number%2==0:\n",
    "    print(\"\\n\".join([\"입력한 문자열은 {}입니다\",\"{}는 짝수입니다.\"]).format(number,number))\n",
    "else:\n",
    "    print(\"\\n\".join([\"입력한 문자열은 {}입니다\",\"{}는 홀수입니다.\"]).format(number,number))"
   ]
  },
  {
   "cell_type": "code",
   "execution_count": 92,
   "id": "db9ad5ea-b4f6-484a-82eb-cbc8ca800100",
   "metadata": {},
   "outputs": [
    {
     "name": "stdout",
     "output_type": "stream",
     "text": [
      "[1, 3, 7, 15, 31, 63]\n",
      "1 : {:b}.format(i) \n",
      "3 : {:b}.format(i) \n",
      "7 : {:b}.format(i) \n",
      "15 : {:b}.format(i) \n",
      "31 : {:b}.format(i) \n",
      "63 : {:b}.format(i) \n",
      "합계:  120\n"
     ]
    }
   ],
   "source": [
    "output=[i for i in range(1,101) if bin(i).count(\"0\")==1]\n",
    "print(output)\n",
    "for i in output:\n",
    "    print(\"{} : {} \".format(i,\"{:b}\".format(i)))\n",
    "print(\"합계: \", sum(output))"
   ]
  }
 ],
 "metadata": {
  "kernelspec": {
   "display_name": "Python 3 (ipykernel)",
   "language": "python",
   "name": "python3"
  },
  "language_info": {
   "codemirror_mode": {
    "name": "ipython",
    "version": 3
   },
   "file_extension": ".py",
   "mimetype": "text/x-python",
   "name": "python",
   "nbconvert_exporter": "python",
   "pygments_lexer": "ipython3",
   "version": "3.13.5"
  }
 },
 "nbformat": 4,
 "nbformat_minor": 5
}
