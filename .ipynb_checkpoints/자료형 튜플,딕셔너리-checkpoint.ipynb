{
 "cells": [
  {
   "cell_type": "markdown",
   "id": "7bea8136-1c93-43f4-ab25-53dbe65245ed",
   "metadata": {},
   "source": [
    "## 튜플 다루기"
   ]
  },
  {
   "cell_type": "code",
   "execution_count": 2,
   "id": "9bbd40d0-eb10-44c7-9f1a-7074c3c2ca7d",
   "metadata": {},
   "outputs": [
    {
     "name": "stdout",
     "output_type": "stream",
     "text": [
      "1\n",
      "2\n",
      "a\n",
      "b\n"
     ]
    }
   ],
   "source": [
    "#인덱싱\n",
    "t1=(1,2,'a','b')\n",
    "\n",
    "print(t1[0])\n",
    "print(t1[1])\n",
    "print(t1[2])\n",
    "print(t1[3])\n",
    "    "
   ]
  },
  {
   "cell_type": "code",
   "execution_count": 4,
   "id": "71ddb3b8-95b5-45aa-b78c-a42fdb728fce",
   "metadata": {},
   "outputs": [
    {
     "name": "stdout",
     "output_type": "stream",
     "text": [
      "(1, 2)\n",
      "('a', 'b')\n"
     ]
    }
   ],
   "source": [
    "#슬라이싱\n",
    "print(t1[:2])\n",
    "print(t1[2:])"
   ]
  },
  {
   "cell_type": "code",
   "execution_count": 9,
   "id": "33be36a8-7787-4e37-9dda-90eeab94be3f",
   "metadata": {},
   "outputs": [
    {
     "name": "stdout",
     "output_type": "stream",
     "text": [
      "(1, 2, 'a', 'b', 3, 4)\n",
      "(3, 4, 3, 4)\n"
     ]
    }
   ],
   "source": [
    "#연산하기\n",
    "t2=(3,4)\n",
    "t3=t1+t2 #합\n",
    "t4=t2*2 #반복\n",
    "print(len(t2)) #개수\n",
    "print(t3)\n",
    "print(t4)"
   ]
  },
  {
   "cell_type": "code",
   "execution_count": null,
   "id": "308b1a21-9f51-4bfb-8265-ce1581b7c8b0",
   "metadata": {},
   "outputs": [],
   "source": []
  }
 ],
 "metadata": {
  "kernelspec": {
   "display_name": "Python 3 (ipykernel)",
   "language": "python",
   "name": "python3"
  },
  "language_info": {
   "codemirror_mode": {
    "name": "ipython",
    "version": 3
   },
   "file_extension": ".py",
   "mimetype": "text/x-python",
   "name": "python",
   "nbconvert_exporter": "python",
   "pygments_lexer": "ipython3",
   "version": "3.13.5"
  }
 },
 "nbformat": 4,
 "nbformat_minor": 5
}
