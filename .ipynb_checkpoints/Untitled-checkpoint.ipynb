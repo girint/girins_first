{
 "cells": [
  {
   "cell_type": "code",
   "execution_count": 3,
   "id": "ae213ef6-1327-4dbb-b63d-0e0806be8305",
   "metadata": {},
   "outputs": [
    {
     "name": "stdout",
     "output_type": "stream",
     "text": [
      "난 \n",
      "난 \n",
      "난 \n",
      "*\n",
      "난 \n",
      "난 \n",
      "*\n",
      "난 \n",
      "*\n",
      "*\n"
     ]
    }
   ],
   "source": [
    "for i in range(1,5):\n",
    "    for j in range(1,5):\n",
    "            if i<j:\n",
    "                pass\n",
    "                print(\"난 \")\n",
    "            else:\n",
    "                print(\"*\")\n",
    "   3 print(a)\n",
    "                \n",
    "            "
   ]
  },
  {
   "cell_type": "code",
   "execution_count": null,
   "id": "2f9cf897-568d-4817-ae49-e0736a0f834c",
   "metadata": {},
   "outputs": [],
   "source": []
  }
 ],
 "metadata": {
  "kernelspec": {
   "display_name": "Python 3 (ipykernel)",
   "language": "python",
   "name": "python3"
  },
  "language_info": {
   "codemirror_mode": {
    "name": "ipython",
    "version": 3
   },
   "file_extension": ".py",
   "mimetype": "text/x-python",
   "name": "python",
   "nbconvert_exporter": "python",
   "pygments_lexer": "ipython3",
   "version": "3.13.5"
  }
 },
 "nbformat": 4,
 "nbformat_minor": 5
}
