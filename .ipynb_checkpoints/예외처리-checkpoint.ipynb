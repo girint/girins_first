{
 "cells": [
  {
   "cell_type": "markdown",
   "id": "99e53ba5-ef60-474a-aabf-15fdb409f31a",
   "metadata": {},
   "source": [
    "## 자주 방생하는 예외 ex) "
   ]
  },
  {
   "cell_type": "code",
   "execution_count": null,
   "id": "da61bd7f-22a2-4dc1-9479-057925b5ca6a",
   "metadata": {},
   "outputs": [],
   "source": [
    "f=open(\"foot.txt\",\"r\")"
   ]
  },
  {
   "cell_type": "code",
   "execution_count": 5,
   "id": "c581c474-bd8d-4e81-a826-2f4598791168",
   "metadata": {},
   "outputs": [
    {
     "name": "stdout",
     "output_type": "stream",
     "text": [
      "division by zero\n"
     ]
    }
   ],
   "source": [
    "try:\n",
    "    4/0\n",
    "except ZeroDivisionError as e:\n",
    "    print(e)"
   ]
  },
  {
   "cell_type": "code",
   "execution_count": 7,
   "id": "faa5e87e-5d73-4123-8c47-a06114adae4b",
   "metadata": {},
   "outputs": [],
   "source": [
    "try:\n",
    "    f=open(\"foot.txt\",\"w\")\n",
    "finally:\n",
    "    f.close()"
   ]
  },
  {
   "cell_type": "code",
   "execution_count": 13,
   "id": "8d34f513-1257-4196-8daf-16a427cee957",
   "metadata": {},
   "outputs": [
    {
     "name": "stdout",
     "output_type": "stream",
     "text": [
      "list index out of range\n",
      "이건 에러 판독기야\n"
     ]
    }
   ],
   "source": [
    "try:\n",
    "    a=[1,2]\n",
    "    print(a[3])\n",
    "\n",
    "    4/0\n",
    "except ZeroDivisionError as error:\n",
    "    print(error)\n",
    "except IndexError as error:\n",
    "    print(error)\n",
    "finally:\n",
    "    print(\"이건 에러 판독기야\")"
   ]
  },
  {
   "cell_type": "code",
   "execution_count": 22,
   "id": "27bacd23-988b-4364-9776-7f0cc8cb5ece",
   "metadata": {},
   "outputs": [
    {
     "name": "stdout",
     "output_type": "stream",
     "text": [
      "division by zero\n",
      "에러제끼기\n"
     ]
    }
   ],
   "source": [
    "try:\n",
    "    4/0\n",
    "    a=[1,2]\n",
    "    print(a[3])\n",
    "\n",
    "    4/0\n",
    "except Exception as a:\n",
    "    print(a)\n",
    "\n",
    "print(\"에러제끼기\")"
   ]
  },
  {
   "cell_type": "code",
   "execution_count": 23,
   "id": "2b927922-8a17-4b7a-b959-08e1538b412f",
   "metadata": {},
   "outputs": [],
   "source": [
    "#억지 예외 발생시키기\n",
    "\n",
    "class Bird:\n",
    "    def fly(self):\n",
    "        raise NotImplementedError"
   ]
  },
  {
   "cell_type": "code",
   "execution_count": 24,
   "id": "ad890dbe-9564-4b49-9a06-32632815f95f",
   "metadata": {},
   "outputs": [
    {
     "ename": "NotImplementedError",
     "evalue": "",
     "output_type": "error",
     "traceback": [
      "\u001b[1;31m---------------------------------------------------------------------------\u001b[0m",
      "\u001b[1;31mNotImplementedError\u001b[0m                       Traceback (most recent call last)",
      "Cell \u001b[1;32mIn[24], line 5\u001b[0m\n\u001b[0;32m      2\u001b[0m     \u001b[38;5;28;01mpass\u001b[39;00m\n\u001b[0;32m      4\u001b[0m eagle\u001b[38;5;241m=\u001b[39mEagle()\n\u001b[1;32m----> 5\u001b[0m eagle\u001b[38;5;241m.\u001b[39mfly()\n",
      "Cell \u001b[1;32mIn[23], line 5\u001b[0m, in \u001b[0;36mBird.fly\u001b[1;34m(self)\u001b[0m\n\u001b[0;32m      4\u001b[0m \u001b[38;5;28;01mdef\u001b[39;00m\u001b[38;5;250m \u001b[39m\u001b[38;5;21mfly\u001b[39m(\u001b[38;5;28mself\u001b[39m):\n\u001b[1;32m----> 5\u001b[0m     \u001b[38;5;28;01mraise\u001b[39;00m \u001b[38;5;167;01mNotImplementedError\u001b[39;00m\n",
      "\u001b[1;31mNotImplementedError\u001b[0m: "
     ]
    }
   ],
   "source": [
    "class Eagle(Bird):\n",
    "    pass\n",
    "\n",
    "eagle=Eagle()\n",
    "eagle.fly()"
   ]
  },
  {
   "cell_type": "code",
   "execution_count": 25,
   "id": "4d6828f6-80bb-4ba0-95d6-a6b92e3ff6d0",
   "metadata": {},
   "outputs": [
    {
     "name": "stdout",
     "output_type": "stream",
     "text": [
      "날아올라 세상위로\n"
     ]
    }
   ],
   "source": [
    "class Eagle(Bird):\n",
    "    def fly(self):\n",
    "        print(\"날아올라 세상위로\")\n",
    "\n",
    "eagle=Eagle()\n",
    "eagle.fly()"
   ]
  },
  {
   "cell_type": "markdown",
   "id": "de850ac1-9aed-4ec1-9cd3-483838e133b7",
   "metadata": {},
   "source": [
    "## 이미 있는 에러에 내 에러 추가하기 "
   ]
  },
  {
   "cell_type": "code",
   "execution_count": 26,
   "id": "a86ba882-1a02-4bdc-b1e9-822e0cb0f134",
   "metadata": {},
   "outputs": [],
   "source": [
    "class MyError(Exception):\n",
    "    pass\n",
    "    \n",
    "#오류메세지 출력하는 방법\n",
    "class MyError(Exception):\n",
    "    def __str__(self):\n",
    "        return\"중복된 닉네임입니다.\""
   ]
  },
  {
   "cell_type": "code",
   "execution_count": 32,
   "id": "b901b38b-a5db-4095-97b7-acfaad1b7b53",
   "metadata": {},
   "outputs": [],
   "source": [
    "def say_nick(nick):\n",
    "    for i in nick_list:\n",
    "        if nick==i:\n",
    "        raise MyError()\n",
    "    print(nick)"
   ]
  },
  {
   "cell_type": "code",
   "execution_count": 33,
   "id": "c01d4083-a4c5-48a2-94e3-37225a3f2ec7",
   "metadata": {},
   "outputs": [
    {
     "name": "stdout",
     "output_type": "stream",
     "text": [
      "씨발\n"
     ]
    }
   ],
   "source": [
    "say_nick(\"씨발\")"
   ]
  },
  {
   "cell_type": "markdown",
   "id": "a5c5564a-205d-45a2-bd63-212b4604f4bb",
   "metadata": {},
   "source": [
    "이걸 이용하면 중복 닉네임 제거 가능할수 있겠다 또한 기존에 기록된 정보랑 맞는지 틀린지 비교할수 이는 비교 연산자가 가능할것으로 보임"
   ]
  },
  {
   "cell_type": "code",
   "execution_count": 37,
   "id": "380969ae-2b49-4082-a192-eaf821b71848",
   "metadata": {},
   "outputs": [],
   "source": [
    "nick_list=[\"바보\",\"똥개\",\"멍청이\",\"해삼\",\"말미잘\"]"
   ]
  },
  {
   "cell_type": "code",
   "execution_count": null,
   "id": "c8375395-398c-4e01-b6f5-e024912b08b3",
   "metadata": {},
   "outputs": [],
   "source": []
  },
  {
   "cell_type": "code",
   "execution_count": 41,
   "id": "7e98fd49-95ac-40d4-b462-6ba1622f4ed6",
   "metadata": {},
   "outputs": [
    {
     "name": "stdout",
     "output_type": "stream",
     "text": [
      "['바보', '똥개', '멍청이', '해삼', '말미잘']\n"
     ]
    }
   ],
   "source": [
    "try:\n",
    "    say_nick(nick_list)\n",
    "except MyError as a:\n",
    "    print(a)"
   ]
  },
  {
   "cell_type": "code",
   "execution_count": null,
   "id": "11f56c6b-e143-4732-8df5-56e82c34e892",
   "metadata": {},
   "outputs": [],
   "source": [
    "\n"
   ]
  }
 ],
 "metadata": {
  "kernelspec": {
   "display_name": "Python 3 (ipykernel)",
   "language": "python",
   "name": "python3"
  },
  "language_info": {
   "codemirror_mode": {
    "name": "ipython",
    "version": 3
   },
   "file_extension": ".py",
   "mimetype": "text/x-python",
   "name": "python",
   "nbconvert_exporter": "python",
   "pygments_lexer": "ipython3",
   "version": "3.13.5"
  }
 },
 "nbformat": 4,
 "nbformat_minor": 5
}
