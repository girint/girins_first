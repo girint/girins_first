{
 "cells": [
  {
   "cell_type": "markdown",
   "id": "483c3c7b-7a1d-4073-8664-392abf62b227",
   "metadata": {
    "jp-MarkdownHeadingCollapsed": true
   },
   "source": [
    "### 8월 19일 오늘은 파이썬 첫 시작날이다"
   ]
  },
  {
   "cell_type": "code",
   "execution_count": 18,
   "id": "1aaea031-984f-42ab-a7f7-efbbae067318",
   "metadata": {},
   "outputs": [
    {
     "name": "stdout",
     "output_type": "stream",
     "text": [
      "야임마\n"
     ]
    }
   ],
   "source": [
    "print(\"야임마\")"
   ]
  },
  {
   "cell_type": "code",
   "execution_count": 19,
   "id": "5f2f58a0-ac9e-483f-8e49-bf9455155992",
   "metadata": {},
   "outputs": [],
   "source": [
    "a=0o177"
   ]
  },
  {
   "cell_type": "markdown",
   "id": "2a876a88-0309-4df3-9dac-3641c3508bdf",
   "metadata": {},
   "source": [
    "너는글씨를 쓰기 위해 존재하는거야 esc+M 누르면 돼"
   ]
  },
  {
   "cell_type": "markdown",
   "id": "81ca03da-66f7-4e15-afff-3d7319cd67cb",
   "metadata": {
    "jp-MarkdownHeadingCollapsed": true
   },
   "source": [
    "## 3-2 자료형-문자열"
   ]
  },
  {
   "cell_type": "code",
   "execution_count": 21,
   "id": "d1b65b3f-51ac-4ee9-a1d7-1fb74dbc2ed3",
   "metadata": {},
   "outputs": [
    {
     "data": {
      "text/plain": [
       "\"나는 강아지'사람\""
      ]
     },
     "execution_count": 21,
     "metadata": {},
     "output_type": "execute_result"
    }
   ],
   "source": [
    "food=\"나는 강아지'사람\"\n",
    "food"
   ]
  },
  {
   "cell_type": "markdown",
   "id": "ff6bf8a5-de29-4be6-af69-0b6f2d0e98ad",
   "metadata": {},
   "source": [
    "\\를 사용하면 특수문자로 인지해라 라는 뜻"
   ]
  },
  {
   "cell_type": "code",
   "execution_count": 26,
   "id": "471919d9-eb18-4842-99f1-6ac7af3cbc7e",
   "metadata": {},
   "outputs": [
    {
     "name": "stdout",
     "output_type": "stream",
     "text": [
      "Ex)\n",
      "나는,강아지\n"
     ]
    }
   ],
   "source": [
    "print(\"Ex)\")\n",
    "print(\"나는,강아지\")"
   ]
  },
  {
   "cell_type": "markdown",
   "id": "80cba40f-32ad-4c2c-ba23-94781e2238dd",
   "metadata": {},
   "source": [
    "## 8월 20일 시작이다"
   ]
  },
  {
   "cell_type": "markdown",
   "id": "ee542c97-4e26-4f10-b8d5-3d722f99830c",
   "metadata": {},
   "source": [
    "문자열 포메팅 "
   ]
  },
  {
   "cell_type": "code",
   "execution_count": 1,
   "id": "4b085bd4-405e-44a4-ae69-dcb0cab21102",
   "metadata": {},
   "outputs": [
    {
     "data": {
      "text/plain": [
       "'I eat 2 apple'"
      ]
     },
     "execution_count": 1,
     "metadata": {},
     "output_type": "execute_result"
    }
   ],
   "source": [
    "\"I eat %d apple\"%2"
   ]
  },
  {
   "cell_type": "code",
   "execution_count": 2,
   "id": "babaa1b3-7782-429b-a0d5-d311501c5425",
   "metadata": {},
   "outputs": [
    {
     "data": {
      "text/plain": [
       "'I eat four apple'"
      ]
     },
     "execution_count": 2,
     "metadata": {},
     "output_type": "execute_result"
    }
   ],
   "source": [
    "\"I eat %s apple\"%\"four\""
   ]
  },
  {
   "cell_type": "code",
   "execution_count": 4,
   "id": "a6da8a9c-a169-457d-8c00-df231f8392fc",
   "metadata": {},
   "outputs": [
    {
     "data": {
      "text/plain": [
       "'I eat 3 apple'"
      ]
     },
     "execution_count": 4,
     "metadata": {},
     "output_type": "execute_result"
    }
   ],
   "source": [
    "number=3\n",
    "\"I eat %d apple\"%number"
   ]
  },
  {
   "cell_type": "code",
   "execution_count": 5,
   "id": "56938694-f412-4bd9-89e0-8947b6dd405f",
   "metadata": {},
   "outputs": [
    {
     "name": "stdout",
     "output_type": "stream",
     "text": [
      "I eat 1 apple\n",
      "I eat 2 apple\n",
      "I eat 3 apple\n",
      "I eat 4 apple\n",
      "I eat 5 apple\n",
      "I eat 6 apple\n",
      "I eat 7 apple\n",
      "I eat 8 apple\n",
      "I eat 9 apple\n"
     ]
    }
   ],
   "source": [
    "for i in range(1,10):\n",
    "    print(\"I eat %d apple\"%i)"
   ]
  },
  {
   "cell_type": "code",
   "execution_count": 24,
   "id": "446c1555-a549-46f1-945b-051d144f2296",
   "metadata": {},
   "outputs": [
    {
     "name": "stdin",
     "output_type": "stream",
     "text": [
      "이름을 입력하시오: 백기림\n",
      "나이를 입력하시오: 28\n"
     ]
    },
    {
     "data": {
      "text/plain": [
       "'당신의 이름은 백기림이고, 나이는28세 입니다'"
      ]
     },
     "execution_count": 24,
     "metadata": {},
     "output_type": "execute_result"
    }
   ],
   "source": [
    "\n",
    "a=input(\"이름을 입력하시오:\")\n",
    "b=input(\"나이를 입력하시오:\")\n",
    "c=int(b)\n",
    "\"당신의 이름은%4s이고, 나이는%d세 입니다\"%(a,int(b))"
   ]
  },
  {
   "cell_type": "code",
   "execution_count": 25,
   "id": "02b859b3-bb05-4346-ad9d-377bfe39e361",
   "metadata": {},
   "outputs": [
    {
     "data": {
      "text/plain": [
       "3"
      ]
     },
     "execution_count": 25,
     "metadata": {},
     "output_type": "execute_result"
    }
   ],
   "source": [
    "len(a)"
   ]
  },
  {
   "cell_type": "code",
   "execution_count": 35,
   "id": "3777a7b8-5650-438e-9b03-30a8dad0d5a5",
   "metadata": {},
   "outputs": [
    {
     "data": {
      "text/plain": [
       "'12345.68'"
      ]
     },
     "execution_count": 35,
     "metadata": {},
     "output_type": "execute_result"
    }
   ],
   "source": [
    "a=12345.6789\n",
    "\"%1.2f\"%a"
   ]
  },
  {
   "cell_type": "code",
   "execution_count": 30,
   "id": "cd0de7cf-d808-417e-af44-eb993c34c7a7",
   "metadata": {},
   "outputs": [
    {
     "data": {
      "text/plain": [
       "'I eat 10 apple20'"
      ]
     },
     "execution_count": 30,
     "metadata": {},
     "output_type": "execute_result"
    }
   ],
   "source": [
    "#주석을 달꺼야 format 함수는 순서에 맞게 삽입시켜주는 역할을해#\n",
    "\"I eat {} apple{}\".format(10,20)"
   ]
  },
  {
   "cell_type": "code",
   "execution_count": 36,
   "id": "1cce8b20-033f-48a0-abcb-aae9d893b8be",
   "metadata": {},
   "outputs": [
    {
     "data": {
      "text/plain": [
       "'첫번째 12345.6789 두번째 28세번째'"
      ]
     },
     "execution_count": 36,
     "metadata": {},
     "output_type": "execute_result"
    }
   ],
   "source": [
    "\"첫번째 {} 두번째 {}세번째\".format(a,b)"
   ]
  },
  {
   "cell_type": "code",
   "execution_count": 37,
   "id": "e428c4c7-7337-4aa9-b328-567f5894665f",
   "metadata": {},
   "outputs": [
    {
     "data": {
      "text/plain": [
       "'첫번째 banana 두번째 apple세번째'"
      ]
     },
     "execution_count": 37,
     "metadata": {},
     "output_type": "execute_result"
    }
   ],
   "source": [
    "\"첫번째 {b} 두번째 {a}세번째\".format(a=\"apple\",b=\"banana\")"
   ]
  },
  {
   "cell_type": "markdown",
   "id": "b1683b5b-cd3e-4b02-8e8c-09b327cfb637",
   "metadata": {},
   "source": [
    "#### format은 다양한 정렬이 있다\n",
    "##### :< 왼쪽 정렬\n",
    "##### :> 오른쪽 정렬\n",
    "##### :^ 가운데 정렬\n",
    "##### :=^ 빈공간 =로 채우기"
   ]
  },
  {
   "cell_type": "code",
   "execution_count": 39,
   "id": "40cb83a9-cb02-4895-96bb-307653d3bb48",
   "metadata": {},
   "outputs": [
    {
     "data": {
      "text/plain": [
       "'첫번째 a          두번째          a세번째    a      네번째====a====='"
      ]
     },
     "execution_count": 39,
     "metadata": {},
     "output_type": "execute_result"
    }
   ],
   "source": [
    "\"첫번째 {:<10} 두번째 {:>10}세번째{:^10} 네번째{:=^10}\".format(\"a\",\"a\",\"a\",\"a\")"
   ]
  },
  {
   "cell_type": "code",
   "execution_count": 46,
   "id": "85bf1249-1065-4e47-8ceb-861399cde5d5",
   "metadata": {},
   "outputs": [
    {
     "data": {
      "text/plain": [
       "'나의 이름은 백기림이고, 나이는 28입니다'"
      ]
     },
     "execution_count": 46,
     "metadata": {},
     "output_type": "execute_result"
    }
   ],
   "source": [
    "d={'name':\"백기림\",\"age\":28}\n",
    "f\"나의 이름은 {d['name']}이고, 나이는 {d['age']}입니다\""
   ]
  },
  {
   "cell_type": "markdown",
   "id": "0057812e-f900-4984-8bb3-42dda02f8b9b",
   "metadata": {},
   "source": [
    "#### 문자열 관련 함수들\n",
    "\n",
    "###### count 특정 문자열 또는 단어 개수 세기\n",
    "###### find 특정 문자 인덱스 위치 알려주기\n",
    "###### index 위와 동일\n",
    "###### join 말그대로 연결인데 특수문자도 연결 잘 시켜줌"
   ]
  },
  {
   "cell_type": "code",
   "execution_count": 49,
   "id": "6e8c5c1e-3d88-4131-9e6f-7597955c4133",
   "metadata": {},
   "outputs": [
    {
     "data": {
      "text/plain": [
       "5"
      ]
     },
     "execution_count": 49,
     "metadata": {},
     "output_type": "execute_result"
    }
   ],
   "source": [
    "a=\"huhuhuhuhuhuhuhuhuhuhugh\"\n",
    "a.count(\"huh\")"
   ]
  },
  {
   "cell_type": "code",
   "execution_count": 55,
   "id": "f9efb2b6-e6af-4a8f-a9d3-1662cfe9fb4e",
   "metadata": {},
   "outputs": [
    {
     "data": {
      "text/plain": [
       "'a/b/c/d'"
      ]
     },
     "execution_count": 55,
     "metadata": {},
     "output_type": "execute_result"
    }
   ],
   "source": [
    "'/'.join('abcd')"
   ]
  },
  {
   "cell_type": "code",
   "execution_count": 58,
   "id": "5c5f82a5-2a2e-48b9-9f19-2f1d0938b0aa",
   "metadata": {},
   "outputs": [
    {
     "data": {
      "text/plain": [
       "0"
      ]
     },
     "execution_count": 58,
     "metadata": {},
     "output_type": "execute_result"
    }
   ],
   "source": [
    "a=\"abcbcabc\"\n",
    "a.find('a')"
   ]
  },
  {
   "cell_type": "code",
   "execution_count": 67,
   "id": "a14ba625-3f92-4c75-be18-65b16a945afa",
   "metadata": {},
   "outputs": [
    {
     "data": {
      "text/plain": [
       "'abcabc'"
      ]
     },
     "execution_count": 67,
     "metadata": {},
     "output_type": "execute_result"
    }
   ],
   "source": [
    "a=a[b+1:]\n",
    "a"
   ]
  },
  {
   "cell_type": "code",
   "execution_count": 70,
   "id": "004667d3-4675-415b-9dd4-77edc5b267f1",
   "metadata": {},
   "outputs": [
    {
     "name": "stdout",
     "output_type": "stream",
     "text": [
      "[99]\n"
     ]
    }
   ],
   "source": [
    "for i in range(0,101):\n",
    "    a=[]\n",
    "    a.append(i)\n",
    "print(a)"
   ]
  }
 ],
 "metadata": {
  "kernelspec": {
   "display_name": "Python 3 (ipykernel)",
   "language": "python",
   "name": "python3"
  },
  "language_info": {
   "codemirror_mode": {
    "name": "ipython",
    "version": 3
   },
   "file_extension": ".py",
   "mimetype": "text/x-python",
   "name": "python",
   "nbconvert_exporter": "python",
   "pygments_lexer": "ipython3",
   "version": "3.13.5"
  }
 },
 "nbformat": 4,
 "nbformat_minor": 5
}
