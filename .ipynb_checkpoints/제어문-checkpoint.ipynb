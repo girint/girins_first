{
 "cells": [
  {
   "cell_type": "markdown",
   "id": "db44b149-5615-472f-883a-cad228dadfdf",
   "metadata": {
    "jp-MarkdownHeadingCollapsed": true
   },
   "source": [
    "## if문\n",
    "##### 조건문이라고도 하죠"
   ]
  },
  {
   "cell_type": "code",
   "execution_count": 2,
   "id": "a250bac3-605d-42dc-aabe-52ff9ce58a42",
   "metadata": {},
   "outputs": [
    {
     "name": "stdout",
     "output_type": "stream",
     "text": [
      "택시를 타고가라\n"
     ]
    }
   ],
   "source": [
    "#기본형\n",
    "\n",
    "money=True\n",
    "if money:\n",
    "    print(\"택시를 타고가라\") #다음 조건이 참이면 출력하라 #머니를 트루로 헀으니 잘 출력\n",
    "else:\n",
    "    print(\"걍 닌 걸어가라\") #모든 if 조건을 만족 시키지 않으면 이걸 실행하라 "
   ]
  },
  {
   "cell_type": "code",
   "execution_count": 5,
   "id": "9d9eefdc-c71f-4ec9-9829-ac69ff154da4",
   "metadata": {},
   "outputs": [
    {
     "name": "stdout",
     "output_type": "stream",
     "text": [
      "a는 b보다 작아\n"
     ]
    }
   ],
   "source": [
    "a=1\n",
    "b=2\n",
    "\n",
    "if a>b:\n",
    "    print(\"a는 b보다 커\")\n",
    "elif a<b:\n",
    "    print(\"a는 b보다 작아\")  #또다른 조건문을 달고 싶으면 elif를 사용하면 돼\n",
    "else:\n",
    "    print(\"a는 b와 같아\")"
   ]
  },
  {
   "cell_type": "code",
   "execution_count": 7,
   "id": "3ce7def0-5537-4665-95d0-9bec7ce34086",
   "metadata": {},
   "outputs": [
    {
     "name": "stdout",
     "output_type": "stream",
     "text": [
      "1\n",
      "2\n",
      "3\n"
     ]
    }
   ],
   "source": [
    "for i in [1,2,3]:\n",
    "    print(i)"
   ]
  },
  {
   "cell_type": "code",
   "execution_count": 10,
   "id": "4b562b53-622b-4e36-970a-461b98d954b8",
   "metadata": {},
   "outputs": [
    {
     "name": "stdout",
     "output_type": "stream",
     "text": [
      "합격\n",
      "합격\n",
      "합격\n"
     ]
    }
   ],
   "source": [
    "#조건문 한줄로 바꾸는 연습하기\n",
    "\n",
    "#가장 기본적인 형태이다\n",
    "score =85\n",
    "if score>=60:\n",
    "    result=\"합격\"\n",
    "else:\n",
    "    result=\"불합격\"\n",
    "print(result)\n",
    "\n",
    "#이보다 더 간결하게 바꾸는 방법은 콜론 뒤에 바로쓰는거\n",
    "score =85\n",
    "if score>=60: result=\"합격\"\n",
    "else: result=\"불합격\"\n",
    "print(result)\n",
    "\n",
    "#이거보다 더 간결하게 쓰는 방법은\n",
    "score =85\n",
    "result=\"합격\" if score>=60 else \"불합격\" #이정도 간단한 조건은 한줄로도 가능하다\n",
    "print(result)"
   ]
  },
  {
   "cell_type": "markdown",
   "id": "92a54f61-abf2-4d32-a12d-202d8f92cc54",
   "metadata": {},
   "source": [
    "## while문\n",
    "##### 반복문이라고도 하죠"
   ]
  },
  {
   "cell_type": "code",
   "execution_count": 12,
   "id": "44890eda-ef42-475a-8c90-014c9cb65262",
   "metadata": {},
   "outputs": [
    {
     "name": "stdout",
     "output_type": "stream",
     "text": [
      "1번째 반복함\n",
      "2번째 반복함\n",
      "3번째 반복함\n",
      "4번째 반복함\n",
      "5번째 반복함\n",
      "6번째 반복함\n",
      "7번째 반복함\n",
      "8번째 반복함\n",
      "9번째 반복함\n",
      "10번째 반복함\n",
      "공부 끝\n"
     ]
    }
   ],
   "source": [
    "#기본형식\n",
    "i=0\n",
    "while i<10:\n",
    "    i=i+1\n",
    "    print(\"%2d번째 반복함\"%(i))\n",
    "    if i==10:\n",
    "        print(\"공부 끝\")"
   ]
  },
  {
   "cell_type": "code",
   "execution_count": null,
   "id": "98f99b69-bd57-4e09-8643-babd5fbb5642",
   "metadata": {},
   "outputs": [],
   "source": []
  }
 ],
 "metadata": {
  "kernelspec": {
   "display_name": "Python 3 (ipykernel)",
   "language": "python",
   "name": "python3"
  },
  "language_info": {
   "codemirror_mode": {
    "name": "ipython",
    "version": 3
   },
   "file_extension": ".py",
   "mimetype": "text/x-python",
   "name": "python",
   "nbconvert_exporter": "python",
   "pygments_lexer": "ipython3",
   "version": "3.13.5"
  }
 },
 "nbformat": 4,
 "nbformat_minor": 5
}
