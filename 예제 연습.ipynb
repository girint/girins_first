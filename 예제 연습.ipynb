{
 "cells": [
  {
   "cell_type": "code",
   "execution_count": 40,
   "id": "ae213ef6-1327-4dbb-b63d-0e0806be8305",
   "metadata": {
    "scrolled": true
   },
   "outputs": [
    {
     "name": "stdin",
     "output_type": "stream",
     "text": [
      "숫자를 넣어봐 : 20\n"
     ]
    },
    {
     "name": "stdout",
     "output_type": "stream",
     "text": [
      "                  ★\n",
      "                 *!*\n",
      "                *!*!*\n",
      "               *!*!*!*\n",
      "              *!*!*!*!*\n",
      "             *!*!*!*!*!*\n",
      "            *!*!*!*!*!*!*\n",
      "           *!*!*!*!*!*!*!*\n",
      "          *!*!*!*!*!*!*!*!*\n",
      "         *!*!*!*!*!*!*!*!*!*\n",
      "        *!*!*!*!*!*!*!*!*!*!*\n",
      "       *!*!*!*!*!*!*!*!*!*!*!*\n",
      "      *!*!*!*!*!*!*!*!*!*!*!*!*\n",
      "     *!*!*!*!*!*!*!*!*!*!*!*!*!*\n",
      "    *!*!*!*!*!*!*!*!*!*!*!*!*!*!*\n",
      "   *!*!*!*!*!*!*!*!*!*!*!*!*!*!*!*\n",
      "  *!*!*!*!*!*!*!*!*!*!*!*!*!*!*!*!*\n",
      " *!*!*!*!*!*!*!*!*!*!*!*!*!*!*!*!*!*\n",
      "*!*!*!*!*!*!*!*!*!*!*!*!*!*!*!*!*!*!*\n"
     ]
    }
   ],
   "source": [
    "#237p\n",
    "\n",
    "num=int(input(\"숫자를 넣어봐 :\"))\n",
    "for i in range(1,num):\n",
    "    a=''\n",
    "    b=''\n",
    "    for j in range(i,num-1):\n",
    "        a+=' '\n",
    "    for k in range(0,2*i-1):\n",
    "        if 2*i-1==1:\n",
    "            a+='★'\n",
    "            break\n",
    "        if k%2!=0:\n",
    "            a+=\"!\"\n",
    "        else:\n",
    "            a+='*'\n",
    "    print(a)"
   ]
  },
  {
   "cell_type": "code",
   "execution_count": 42,
   "id": "2f9cf897-568d-4817-ae49-e0736a0f834c",
   "metadata": {},
   "outputs": [
    {
     "data": {
      "text/plain": [
       "[1, 1]"
      ]
     },
     "execution_count": 42,
     "metadata": {},
     "output_type": "execute_result"
    }
   ],
   "source": [
    "#242p  리스트에 특정 문자 없애기\n",
    "\n",
    "list=[1,2,1,2]\n",
    "value=2\n",
    "\n",
    "while value in list:\n",
    "    list.remove(value)\n",
    "\n",
    "list"
   ]
  },
  {
   "cell_type": "code",
   "execution_count": 59,
   "id": "01312b03-8bcc-412f-985c-0ab421511e53",
   "metadata": {},
   "outputs": [
    {
     "name": "stdout",
     "output_type": "stream",
     "text": [
      "29521045\n"
     ]
    }
   ],
   "source": [
    "#243p 내가 원하는 시간만큼 코드를 돌릴수 있는 방법\n",
    "\n",
    "import time\n",
    "\n",
    "number=0\n",
    "\n",
    "target_tick=time.time()+5\n",
    "\n",
    "while time.time() < target_tick:\n",
    "    number +=1\n",
    "print(number) #여기서 나오는 넘버는 컴퓨터 성능에 따라 바뀜"
   ]
  },
  {
   "cell_type": "code",
   "execution_count": 69,
   "id": "2d39696f-c212-45cc-b101-4351fb9b8ab3",
   "metadata": {},
   "outputs": [
    {
     "name": "stdout",
     "output_type": "stream",
     "text": [
      "{'name': '기린', 'hp': 200, 'mp': 30, 'level': 5}\n"
     ]
    }
   ],
   "source": [
    "#248p #키 벨류 값을 딕셔너리로 묶는 방법\n",
    "key_list=[\"name\",\"hp\",\"mp\",\"level\"]\n",
    "value_list=[\"기린\",200,30,5]\n",
    "charater={}\n",
    "\n",
    "for i in range(0,len(key_list)):\n",
    "    charater[key_list[i]]=value_list[i]\n",
    "    \n",
    "\n",
    "print(charater)"
   ]
  },
  {
   "cell_type": "code",
   "execution_count": 78,
   "id": "9aa37131-f51d-46ed-b279-92c2a64672bd",
   "metadata": {},
   "outputs": [
    {
     "name": "stdout",
     "output_type": "stream",
     "text": [
      "142을 더할 때 10000을 넘으며 그떄의 값은 10011 입니다\n"
     ]
    }
   ],
   "source": [
    "#248p 피보나치수열 만들기\n",
    "\n",
    "limit=10000\n",
    "i=1\n",
    "sum_value=0\n",
    "while sum_value<limit:\n",
    "    sum_value= sum_value+i\n",
    "    i+=1\n",
    "print(\"%d을 더할 때 10000을 넘으며 그떄의 값은 %d 입니다\"%(i,sum_value))"
   ]
  },
  {
   "cell_type": "code",
   "execution_count": 84,
   "id": "19b2b5da-26fa-4b97-a550-9ecbbc2837a5",
   "metadata": {},
   "outputs": [
    {
     "name": "stdout",
     "output_type": "stream",
     "text": [
      "최대가 되는 경우 :  50 * 50 = 2500\n"
     ]
    }
   ],
   "source": [
    "#249p\n",
    "\n",
    "max_value=0\n",
    "a=0\n",
    "b=0\n",
    "\n",
    "for i in range(1,100):\n",
    "    j=100-i\n",
    "    max_value1=i*j\n",
    "    if max_value1 >max_value:\n",
    "        max_value =max_value1\n",
    "        a=i\n",
    "        b=j\n",
    "print(\"최대가 되는 경우 :  {} * {} = {}\".format(a,b,max_value))"
   ]
  },
  {
   "cell_type": "code",
   "execution_count": 86,
   "id": "eea4e2ae-2978-4046-9f8b-3280df1067f5",
   "metadata": {},
   "outputs": [
    {
     "name": "stdin",
     "output_type": "stream",
     "text": [
      "정수 입력:  30\n"
     ]
    },
    {
     "name": "stdout",
     "output_type": "stream",
     "text": [
      "입력한 문자열은 30입니다\n",
      "30는 짝수입니다.\n"
     ]
    }
   ],
   "source": [
    "#264p\n",
    "\n",
    "number=int(input(\"정수 입력: \"))\n",
    "if number%2==0:\n",
    "    print(\"\\n\".join([\"입력한 문자열은 {}입니다\",\"{}는 짝수입니다.\"]).format(number,number))\n",
    "else:\n",
    "    print(\"\\n\".join([\"입력한 문자열은 {}입니다\",\"{}는 홀수입니다.\"]).format(number,number))"
   ]
  },
  {
   "cell_type": "code",
   "execution_count": 95,
   "id": "db9ad5ea-b4f6-484a-82eb-cbc8ca800100",
   "metadata": {},
   "outputs": [
    {
     "name": "stdout",
     "output_type": "stream",
     "text": [
      "[2, 5, 6, 11, 13, 14, 23, 27, 29, 30, 47, 55, 59, 61, 62, 95]\n",
      "2 : 10 \n",
      "5 : 101 \n",
      "6 : 110 \n",
      "11 : 1011 \n",
      "13 : 1101 \n",
      "14 : 1110 \n",
      "23 : 10111 \n",
      "27 : 11011 \n",
      "29 : 11101 \n",
      "30 : 11110 \n",
      "47 : 101111 \n",
      "55 : 110111 \n",
      "59 : 111011 \n",
      "61 : 111101 \n",
      "62 : 111110 \n",
      "95 : 1011111 \n",
      "합계:  539\n"
     ]
    }
   ],
   "source": [
    "output=[i for i in range(1,101) if \"{:b}\".format(i).count(\"0\")==1]\n",
    "print(output)\n",
    "for i in output:\n",
    "    print(\"{} : {} \".format(i,\"{:b}\".format(i)))\n",
    "print(\"합계: \", sum(output))"
   ]
  },
  {
   "cell_type": "code",
   "execution_count": 97,
   "id": "6d3d3231-8f67-4b47-a32b-d82be157ffcf",
   "metadata": {},
   "outputs": [
    {
     "name": "stdout",
     "output_type": "stream",
     "text": [
      "0b1\n",
      "1\n",
      "0b10\n",
      "10\n",
      "0b11\n",
      "11\n",
      "0b100\n",
      "100\n",
      "0b101\n",
      "101\n",
      "0b110\n",
      "110\n",
      "0b111\n",
      "111\n",
      "0b1000\n",
      "1000\n",
      "0b1001\n",
      "1001\n",
      "0b1010\n",
      "1010\n",
      "0b1011\n",
      "1011\n",
      "0b1100\n",
      "1100\n",
      "0b1101\n",
      "1101\n",
      "0b1110\n",
      "1110\n",
      "0b1111\n",
      "1111\n",
      "0b10000\n",
      "10000\n",
      "0b10001\n",
      "10001\n",
      "0b10010\n",
      "10010\n",
      "0b10011\n",
      "10011\n",
      "0b10100\n",
      "10100\n",
      "0b10101\n",
      "10101\n",
      "0b10110\n",
      "10110\n",
      "0b10111\n",
      "10111\n",
      "0b11000\n",
      "11000\n",
      "0b11001\n",
      "11001\n",
      "0b11010\n",
      "11010\n",
      "0b11011\n",
      "11011\n",
      "0b11100\n",
      "11100\n",
      "0b11101\n",
      "11101\n",
      "0b11110\n",
      "11110\n",
      "0b11111\n",
      "11111\n",
      "0b100000\n",
      "100000\n",
      "0b100001\n",
      "100001\n",
      "0b100010\n",
      "100010\n",
      "0b100011\n",
      "100011\n",
      "0b100100\n",
      "100100\n",
      "0b100101\n",
      "100101\n",
      "0b100110\n",
      "100110\n",
      "0b100111\n",
      "100111\n",
      "0b101000\n",
      "101000\n",
      "0b101001\n",
      "101001\n",
      "0b101010\n",
      "101010\n",
      "0b101011\n",
      "101011\n",
      "0b101100\n",
      "101100\n",
      "0b101101\n",
      "101101\n",
      "0b101110\n",
      "101110\n",
      "0b101111\n",
      "101111\n",
      "0b110000\n",
      "110000\n",
      "0b110001\n",
      "110001\n",
      "0b110010\n",
      "110010\n",
      "0b110011\n",
      "110011\n",
      "0b110100\n",
      "110100\n",
      "0b110101\n",
      "110101\n",
      "0b110110\n",
      "110110\n",
      "0b110111\n",
      "110111\n",
      "0b111000\n",
      "111000\n",
      "0b111001\n",
      "111001\n",
      "0b111010\n",
      "111010\n",
      "0b111011\n",
      "111011\n",
      "0b111100\n",
      "111100\n",
      "0b111101\n",
      "111101\n",
      "0b111110\n",
      "111110\n",
      "0b111111\n",
      "111111\n",
      "0b1000000\n",
      "1000000\n",
      "0b1000001\n",
      "1000001\n",
      "0b1000010\n",
      "1000010\n",
      "0b1000011\n",
      "1000011\n",
      "0b1000100\n",
      "1000100\n",
      "0b1000101\n",
      "1000101\n",
      "0b1000110\n",
      "1000110\n",
      "0b1000111\n",
      "1000111\n",
      "0b1001000\n",
      "1001000\n",
      "0b1001001\n",
      "1001001\n",
      "0b1001010\n",
      "1001010\n",
      "0b1001011\n",
      "1001011\n",
      "0b1001100\n",
      "1001100\n",
      "0b1001101\n",
      "1001101\n",
      "0b1001110\n",
      "1001110\n",
      "0b1001111\n",
      "1001111\n",
      "0b1010000\n",
      "1010000\n",
      "0b1010001\n",
      "1010001\n",
      "0b1010010\n",
      "1010010\n",
      "0b1010011\n",
      "1010011\n",
      "0b1010100\n",
      "1010100\n",
      "0b1010101\n",
      "1010101\n",
      "0b1010110\n",
      "1010110\n",
      "0b1010111\n",
      "1010111\n",
      "0b1011000\n",
      "1011000\n",
      "0b1011001\n",
      "1011001\n",
      "0b1011010\n",
      "1011010\n",
      "0b1011011\n",
      "1011011\n",
      "0b1011100\n",
      "1011100\n",
      "0b1011101\n",
      "1011101\n",
      "0b1011110\n",
      "1011110\n",
      "0b1011111\n",
      "1011111\n",
      "0b1100000\n",
      "1100000\n",
      "0b1100001\n",
      "1100001\n",
      "0b1100010\n",
      "1100010\n",
      "0b1100011\n",
      "1100011\n",
      "0b1100100\n",
      "1100100\n"
     ]
    }
   ],
   "source": [
    "for i in range(1,101):\n",
    "    print(bin(i)) # 이렇게 쓰면 앞에0b가 꼭 붙는구나..ㅣ.ㅎㅎ\n",
    "    print(\"{:b}\".format(i))"
   ]
  },
  {
   "cell_type": "code",
   "execution_count": 113,
   "id": "f7d15725-113d-40e4-b194-72e98e114f10",
   "metadata": {},
   "outputs": [
    {
     "data": {
      "text/plain": [
       "4"
      ]
     },
     "execution_count": 113,
     "metadata": {},
     "output_type": "execute_result"
    }
   ],
   "source": [
    "#268p 리스트에서 중복된 자료의 개수 구하는 방법 이거 굉장히 중요\n",
    "\n",
    "[1,2,3,4,1,2,3,1,4,1,2,3]\n",
    "dic={}\n",
    "for i in [1,2,3,4,1,2,3,1,4,1,2,3]:\n",
    "    if i not in dic.keys():\n",
    "        dic[i]= 1\n",
    "    else:\n",
    "        dic[i]+=1\n",
    "len(dic.keys())"
   ]
  },
  {
   "cell_type": "code",
   "execution_count": 135,
   "id": "0a56f07f-27d8-43f5-af19-33667a2fc009",
   "metadata": {},
   "outputs": [
    {
     "name": "stdout",
     "output_type": "stream",
     "text": [
      "염기 서열을 입력해주세요: ctacaatgtcagtatacccattgcattagccgg\n"
     ]
    },
    {
     "ename": "AttributeError",
     "evalue": "'dict' object has no attribute 'key'",
     "output_type": "error",
     "traceback": [
      "\u001b[1;31m---------------------------------------------------------------------------\u001b[0m",
      "\u001b[1;31mAttributeError\u001b[0m                            Traceback (most recent call last)",
      "Cell \u001b[1;32mIn[135], line 10\u001b[0m\n\u001b[0;32m      8\u001b[0m \u001b[38;5;28mprint\u001b[39m(\u001b[38;5;124m\"\u001b[39m\u001b[38;5;124m염기 서열을 입력해주세요: \u001b[39m\u001b[38;5;132;01m{}\u001b[39;00m\u001b[38;5;124m\"\u001b[39m\u001b[38;5;241m.\u001b[39mformat(number))\n\u001b[0;32m      9\u001b[0m \u001b[38;5;28;01mfor\u001b[39;00m j \u001b[38;5;129;01min\u001b[39;00m \u001b[38;5;28mrange\u001b[39m(\u001b[38;5;28mlen\u001b[39m(dic\u001b[38;5;241m.\u001b[39mkeys())):\n\u001b[1;32m---> 10\u001b[0m     \u001b[38;5;28mprint\u001b[39m(\u001b[38;5;124m\"\u001b[39m\u001b[38;5;132;01m{}\u001b[39;00m\u001b[38;5;124m의 개수: \u001b[39m\u001b[38;5;132;01m{}\u001b[39;00m\u001b[38;5;124m\"\u001b[39m\u001b[38;5;241m.\u001b[39mformat(dic\u001b[38;5;241m.\u001b[39mkey[i],dic\u001b[38;5;241m.\u001b[39mvalue[i]))\n",
      "\u001b[1;31mAttributeError\u001b[0m: 'dict' object has no attribute 'key'"
     ]
    }
   ],
   "source": [
    "dic.clear()\n",
    "number=\"ctacaatgtcagtatacccattgcattagccgg\"\n",
    "number_list=list(number)\n",
    "for i in number_list:\n",
    "    if i not in dic.keys():\n",
    "        dic[i]= 0\n",
    "    dic[i]+=1\n",
    "print(\"염기 서열을 입력해주세요: {}\".format(number))\n",
    "for j in range(len(dic.keys())):\n",
    "    print(\"{}의 개수: {}\".format(dic.key[i],dic.value[i]))"
   ]
  }
 ],
 "metadata": {
  "kernelspec": {
   "display_name": "Python 3 (ipykernel)",
   "language": "python",
   "name": "python3"
  },
  "language_info": {
   "codemirror_mode": {
    "name": "ipython",
    "version": 3
   },
   "file_extension": ".py",
   "mimetype": "text/x-python",
   "name": "python",
   "nbconvert_exporter": "python",
   "pygments_lexer": "ipython3",
   "version": "3.13.5"
  }
 },
 "nbformat": 4,
 "nbformat_minor": 5
}
