{
 "cells": [
  {
   "cell_type": "markdown",
   "id": "4e480d1a-f4d6-41ac-a3dc-85ffac52cb15",
   "metadata": {
    "jp-MarkdownHeadingCollapsed": true
   },
   "source": [
    "## set집합 특징\n",
    "##### 중복허용하지 않는다\n",
    "##### 순서가 없다(인덱싱 불가)-> 바꾸려면 리스트나 튜플로 변환"
   ]
  },
  {
   "cell_type": "code",
   "execution_count": 2,
   "id": "bb274daa-7838-4309-ae0b-f9b6f0cb2b61",
   "metadata": {},
   "outputs": [
    {
     "data": {
      "text/plain": [
       "{1, 2, 3}"
      ]
     },
     "execution_count": 2,
     "metadata": {},
     "output_type": "execute_result"
    }
   ],
   "source": [
    "s1=set([1,2,3])\n",
    "s1"
   ]
  },
  {
   "cell_type": "code",
   "execution_count": 4,
   "id": "f1fdc602-e813-4d56-8795-fcde61269ba3",
   "metadata": {},
   "outputs": [
    {
     "data": {
      "text/plain": [
       "{'e', 'h', 'l', 'o'}"
      ]
     },
     "execution_count": 4,
     "metadata": {},
     "output_type": "execute_result"
    }
   ],
   "source": [
    "s2=set(\"hello\")\n",
    "s2"
   ]
  },
  {
   "cell_type": "code",
   "execution_count": 9,
   "id": "2a8be09d-8278-4e7f-9a2d-235adb54a786",
   "metadata": {},
   "outputs": [
    {
     "data": {
      "text/plain": [
       "set"
      ]
     },
     "execution_count": 9,
     "metadata": {},
     "output_type": "execute_result"
    }
   ],
   "source": [
    "s3={1,2,3}\n",
    "type(s3)"
   ]
  },
  {
   "cell_type": "code",
   "execution_count": 16,
   "id": "2c0caa70-5faa-467e-9e61-a7c2904c1181",
   "metadata": {},
   "outputs": [
    {
     "name": "stdout",
     "output_type": "stream",
     "text": [
      "['h', 'l', 'o', 'e']\n"
     ]
    }
   ],
   "source": [
    "s4=list(s2)\n",
    "type(s4)\n",
    "print(s4)"
   ]
  },
  {
   "cell_type": "code",
   "execution_count": 32,
   "id": "8f53568a-8e67-4f33-b70a-06b4ccc35ea8",
   "metadata": {},
   "outputs": [
    {
     "name": "stdout",
     "output_type": "stream",
     "text": [
      "교집합 기호는 &입니다  \n",
      " s1&s2= {4, 5, 6}\n",
      "intersection 을 사용해도 됨 \n",
      " s1.intersection(s2)= {4, 5, 6}\n",
      "합집합 기호는 | 입니다 \n",
      " s1|s2= {1, 2, 3, 4, 5, 6, 7, 8, 9}\n",
      "union 을 사용해도 됨 \n",
      " s1.union(s2)= {1, 2, 3, 4, 5, 6, 7, 8, 9}\n",
      "차집합 기혼는 - 입니다 \n",
      " s1-s2= {1, 2, 3}\n",
      "difference를 사용해도 됨 \n",
      " {1, 2, 3}\n"
     ]
    }
   ],
   "source": [
    "s1=set([1,2,3,4,5,6])\n",
    "s2=set([4,5,6,7,8,9])\n",
    "\n",
    "print(\"교집합 기호는 &입니다 \",\"\\n\",\"s1&s2=\",s1 & s2) #교집합 중복만 뽑아냄\n",
    "print(\"intersection 을 사용해도 됨\",\"\\n\",\"s1.intersection(s2)=\",s1.intersection(s2))\n",
    "\n",
    "print(\"합집합 기호는 | 입니다\",\"\\n\",\"s1|s2=\",s1 | s2) #합집합 모든 것 다 뽑아냄\n",
    "print(\"union 을 사용해도 됨\",\"\\n\",\"s1.union(s2)=\",s1.union(s2))\n",
    "\n",
    "print(\"차집합 기혼는 - 입니다\",\"\\n\",\"s1-s2=\",s1-s2) #차집합은 본집합에서 겹빼는거\n",
    "print(\"difference를 사용해도 됨\",\"\\n\", s1.difference(s2)) #순서가 중요한건 당연"
   ]
  },
  {
   "cell_type": "code",
   "execution_count": null,
   "id": "19f7a035-3763-449e-9cda-9ff914fe7e4f",
   "metadata": {},
   "outputs": [],
   "source": [
    "#add -> 값추가\n",
    "s1.add(7)\n",
    "\n",
    "#update -> 여러개 동시추가\n",
    "s1.update([1,2,3])\n",
    "\n",
    "#remove -> 특정 값 제거 다만 제거할것이 없으면 에러남\n",
    "s1.remove(7)\n",
    "\n",
    "#discard -> remove와 같지만 에러가 안나는 장점이 있음\n",
    "s1.discard(8)\n",
    "\n",
    "#clear -> r집합 안의 값들 초기화 전부 없앰 집합 자체는 안사라짐\n",
    "s1.clear()"
   ]
  },
  {
   "cell_type": "markdown",
   "id": "ba9cd42a-b41c-4aa0-951d-ba7d19e49c8f",
   "metadata": {
    "jp-MarkdownHeadingCollapsed": true
   },
   "source": [
    "## 불 자료형\n",
    "##### True False 에 관한 내용"
   ]
  },
  {
   "cell_type": "code",
   "execution_count": 35,
   "id": "876d0450-085c-4314-906f-5abc199bf062",
   "metadata": {},
   "outputs": [
    {
     "name": "stdout",
     "output_type": "stream",
     "text": [
      "4\n",
      "True\n",
      "3\n",
      "True\n",
      "2\n",
      "True\n",
      "1\n",
      "False\n"
     ]
    }
   ],
   "source": [
    "a=[1,2,3,4]\n",
    "while a:\n",
    "    print(a.pop())\n",
    "    print(bool(a))"
   ]
  },
  {
   "cell_type": "code",
   "execution_count": 40,
   "id": "263be5a1-c360-44d5-a6da-570bd272321f",
   "metadata": {},
   "outputs": [
    {
     "name": "stdout",
     "output_type": "stream",
     "text": [
      "True\n",
      "False\n",
      "False\n",
      "False\n"
     ]
    }
   ],
   "source": [
    "## 논리 연산자 \n",
    "#->and 는 둘다 참일때 참을 출력\n",
    "print(True and True)\n",
    "print(True and False)\n",
    "print(False and True)\n",
    "print(False and False)"
   ]
  },
  {
   "cell_type": "code",
   "execution_count": 42,
   "id": "ce2422bc-32b2-4de7-ad27-2e9b4338de0b",
   "metadata": {},
   "outputs": [
    {
     "name": "stdout",
     "output_type": "stream",
     "text": [
      "True\n",
      "True\n",
      "True\n",
      "False\n"
     ]
    }
   ],
   "source": [
    "## 논리 연산자 \n",
    "#->or 는 하나만 참이여도 참 출력\n",
    "print(True or True)\n",
    "print(True or False)\n",
    "print(False or True)\n",
    "print(False or False)"
   ]
  },
  {
   "cell_type": "code",
   "execution_count": 43,
   "id": "d35bc0cf-43a7-4d1b-88dd-c386cda08ddd",
   "metadata": {},
   "outputs": [
    {
     "name": "stdout",
     "output_type": "stream",
     "text": [
      "True\n",
      "True\n",
      "False\n",
      "False\n"
     ]
    }
   ],
   "source": [
    "#논리연산자\n",
    "#not은 조건의 참 거짓을 바꿈\n",
    "print(True or True)\n",
    "print(True or False)\n",
    "print(False or not True)\n",
    "print(False or False)"
   ]
  },
  {
   "cell_type": "code",
   "execution_count": null,
   "id": "6ff8c13a-9133-47d2-a8cd-d989438d7fac",
   "metadata": {},
   "outputs": [],
   "source": []
  },
  {
   "cell_type": "markdown",
   "id": "3c28c7e4-24b0-48e6-946b-db5dfb9ef0fc",
   "metadata": {},
   "source": [
    "## 공간 변수\n",
    "##### 사실 잘 모르는 cope에 대해 공부할 예정"
   ]
  },
  {
   "cell_type": "code",
   "execution_count": 52,
   "id": "e02cc023-fd5d-49d6-9095-1761dd742521",
   "metadata": {},
   "outputs": [
    {
     "name": "stdout",
     "output_type": "stream",
     "text": [
      "True\n",
      "True\n"
     ]
    }
   ],
   "source": [
    "a=[1,2,3]\n",
    "b=a\n",
    "print(a==b)\n",
    "print( b is a)"
   ]
  },
  {
   "cell_type": "code",
   "execution_count": 46,
   "id": "65eaedcb-0bb9-40d3-9af9-2923b4555f6c",
   "metadata": {},
   "outputs": [
    {
     "name": "stdout",
     "output_type": "stream",
     "text": [
      "2446682391744\n",
      "2446682391744\n"
     ]
    }
   ],
   "source": [
    "print(id(a))\n",
    "print(id(b))"
   ]
  },
  {
   "cell_type": "code",
   "execution_count": 54,
   "id": "a083ba03-4f38-4884-8010-065ddfadd1fe",
   "metadata": {},
   "outputs": [
    {
     "name": "stdout",
     "output_type": "stream",
     "text": [
      "[1, 2, 3]\n",
      "True\n",
      "False\n",
      "2446682578944\n",
      "2446682576000\n"
     ]
    }
   ],
   "source": [
    "#copy모듈를 가져와서 해볼 예정\n",
    "from copy import copy\n",
    "\n",
    "a=[1,2,3]\n",
    "b=copy(a)\n",
    "print(b)\n",
    "\n",
    "#하지만 이둘은 같다고 나오질 않는데\n",
    "print(a==b) # 자료자체는 같으나 \n",
    "print( b is a) # b랑 a랑 같다고는 안나오는데 \n",
    "\n",
    "#왜냐 id 가 다르기 때문이다\n",
    "print(id(a))\n",
    "print(id(b))\n",
    "\n",
    "#이 둘의 차이를 명확히 구별해서 써먹도록 하자"
   ]
  },
  {
   "cell_type": "code",
   "execution_count": 56,
   "id": "cc979c2b-07db-41a5-a346-513476db6430",
   "metadata": {},
   "outputs": [
    {
     "name": "stdout",
     "output_type": "stream",
     "text": [
      "True\n",
      "False\n",
      "2446667114048\n",
      "2446682579648\n"
     ]
    }
   ],
   "source": [
    "#리스트 자체의 copy를 사용해도 id는 다를것이다\n",
    "a=[1,2,3]\n",
    "b=a.copy()\n",
    "\n",
    "print(a==b) # 자료자체는 같으나 \n",
    "print( b is a) # b랑 a랑 같다고는 안나오는데 \n",
    "\n",
    "#왜냐 id 가 다르기 때문이다\n",
    "print(id(a))\n",
    "print(id(b))"
   ]
  },
  {
   "cell_type": "code",
   "execution_count": null,
   "id": "76b3bc35-65b8-493f-bee2-ab39bd61c8b7",
   "metadata": {},
   "outputs": [],
   "source": []
  }
 ],
 "metadata": {
  "kernelspec": {
   "display_name": "Python 3 (ipykernel)",
   "language": "python",
   "name": "python3"
  },
  "language_info": {
   "codemirror_mode": {
    "name": "ipython",
    "version": 3
   },
   "file_extension": ".py",
   "mimetype": "text/x-python",
   "name": "python",
   "nbconvert_exporter": "python",
   "pygments_lexer": "ipython3",
   "version": "3.13.5"
  }
 },
 "nbformat": 4,
 "nbformat_minor": 5
}
