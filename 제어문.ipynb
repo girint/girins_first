{
 "cells": [
  {
   "cell_type": "markdown",
   "id": "db44b149-5615-472f-883a-cad228dadfdf",
   "metadata": {
    "jp-MarkdownHeadingCollapsed": true
   },
   "source": [
    "## if문\n",
    "##### 조건문이라고도 하죠"
   ]
  },
  {
   "cell_type": "code",
   "execution_count": 2,
   "id": "a250bac3-605d-42dc-aabe-52ff9ce58a42",
   "metadata": {},
   "outputs": [
    {
     "name": "stdout",
     "output_type": "stream",
     "text": [
      "택시를 타고가라\n"
     ]
    }
   ],
   "source": [
    "#기본형\n",
    "\n",
    "money=True\n",
    "if money:\n",
    "    print(\"택시를 타고가라\") #다음 조건이 참이면 출력하라 #머니를 트루로 헀으니 잘 출력\n",
    "else:\n",
    "    print(\"걍 닌 걸어가라\") #모든 if 조건을 만족 시키지 않으면 이걸 실행하라 "
   ]
  },
  {
   "cell_type": "code",
   "execution_count": 5,
   "id": "9d9eefdc-c71f-4ec9-9829-ac69ff154da4",
   "metadata": {},
   "outputs": [
    {
     "name": "stdout",
     "output_type": "stream",
     "text": [
      "a는 b보다 작아\n"
     ]
    }
   ],
   "source": [
    "a=1\n",
    "b=2\n",
    "\n",
    "if a>b:\n",
    "    print(\"a는 b보다 커\")\n",
    "elif a<b:\n",
    "    print(\"a는 b보다 작아\")  #또다른 조건문을 달고 싶으면 elif를 사용하면 돼\n",
    "else:\n",
    "    print(\"a는 b와 같아\")"
   ]
  },
  {
   "cell_type": "code",
   "execution_count": 7,
   "id": "3ce7def0-5537-4665-95d0-9bec7ce34086",
   "metadata": {},
   "outputs": [
    {
     "name": "stdout",
     "output_type": "stream",
     "text": [
      "1\n",
      "2\n",
      "3\n"
     ]
    }
   ],
   "source": [
    "for i in [1,2,3]:\n",
    "    print(i)"
   ]
  },
  {
   "cell_type": "code",
   "execution_count": 10,
   "id": "4b562b53-622b-4e36-970a-461b98d954b8",
   "metadata": {},
   "outputs": [
    {
     "name": "stdout",
     "output_type": "stream",
     "text": [
      "합격\n",
      "합격\n",
      "합격\n"
     ]
    }
   ],
   "source": [
    "#조건문 한줄로 바꾸는 연습하기\n",
    "\n",
    "#가장 기본적인 형태이다\n",
    "score =85\n",
    "if score>=60:\n",
    "    result=\"합격\"\n",
    "else:\n",
    "    result=\"불합격\"\n",
    "print(result)\n",
    "\n",
    "#이보다 더 간결하게 바꾸는 방법은 콜론 뒤에 바로쓰는거\n",
    "score =85\n",
    "if score>=60: result=\"합격\"\n",
    "else: result=\"불합격\"\n",
    "print(result)\n",
    "\n",
    "#이거보다 더 간결하게 쓰는 방법은\n",
    "score =85\n",
    "result=\"합격\" if score>=60 else \"불합격\" #이정도 간단한 조건은 한줄로도 가능하다\n",
    "print(result)"
   ]
  },
  {
   "cell_type": "markdown",
   "id": "92a54f61-abf2-4d32-a12d-202d8f92cc54",
   "metadata": {
    "jp-MarkdownHeadingCollapsed": true
   },
   "source": [
    "## while문\n",
    "##### 반복문이라고도 하죠"
   ]
  },
  {
   "cell_type": "code",
   "execution_count": 14,
   "id": "44890eda-ef42-475a-8c90-014c9cb65262",
   "metadata": {},
   "outputs": [
    {
     "name": "stdout",
     "output_type": "stream",
     "text": [
      " 1 번째 반복함\n",
      " 2 번째 반복함\n",
      " 3 번째 반복함\n",
      " 4 번째 반복함\n",
      " 5 번째 반복함\n",
      " 6 번째 반복함\n",
      " 7 번째 반복함\n",
      " 8 번째 반복함\n",
      " 9 번째 반복함\n",
      "10 번째 반복함\n",
      "공부 끝\n"
     ]
    }
   ],
   "source": [
    "#기본형식\n",
    "i=0 #변수 지정\n",
    "while i<10: #거짓이 될때까지 반복하기\n",
    "    i=i+1    #변화에 대한 정보 주기 i+=i라고 써도 됨\n",
    "    print(\"%2d 번째 반복함\"%(i))\n",
    "    if i==10: #특정 조건시 실행\n",
    "        print(\"공부 끝\")"
   ]
  },
  {
   "cell_type": "code",
   "execution_count": 16,
   "id": "98f99b69-bd57-4e09-8643-babd5fbb5642",
   "metadata": {},
   "outputs": [],
   "source": [
    "#기본적인 프롬포트 모양을 지정해주기\n",
    "prompt=\"\"\"\n",
    "1.add\n",
    "2.del\n",
    "3.list\n",
    "4.Quit\n",
    "\n",
    "Enter number:\"\"\""
   ]
  },
  {
   "cell_type": "code",
   "execution_count": 17,
   "id": "c9158f9f-534b-4304-8b68-b64a9ae64f69",
   "metadata": {},
   "outputs": [
    {
     "name": "stdout",
     "output_type": "stream",
     "text": [
      "\n",
      "1.add\n",
      "2.del\n",
      "3.list\n",
      "4.Quit\n",
      "\n",
      "Enter number:\n"
     ]
    },
    {
     "name": "stdin",
     "output_type": "stream",
     "text": [
      " 1\n"
     ]
    },
    {
     "name": "stdout",
     "output_type": "stream",
     "text": [
      "\n",
      "1.add\n",
      "2.del\n",
      "3.list\n",
      "4.Quit\n",
      "\n",
      "Enter number:\n"
     ]
    },
    {
     "name": "stdin",
     "output_type": "stream",
     "text": [
      " 2\n"
     ]
    },
    {
     "name": "stdout",
     "output_type": "stream",
     "text": [
      "\n",
      "1.add\n",
      "2.del\n",
      "3.list\n",
      "4.Quit\n",
      "\n",
      "Enter number:\n"
     ]
    },
    {
     "name": "stdin",
     "output_type": "stream",
     "text": [
      " 3\n"
     ]
    },
    {
     "name": "stdout",
     "output_type": "stream",
     "text": [
      "\n",
      "1.add\n",
      "2.del\n",
      "3.list\n",
      "4.Quit\n",
      "\n",
      "Enter number:\n"
     ]
    },
    {
     "name": "stdin",
     "output_type": "stream",
     "text": [
      " 4\n"
     ]
    }
   ],
   "source": [
    "number=0\n",
    "while number !=4: #4일때 거짓이 되므로 종료 된다.\n",
    "    print(prompt) \n",
    "    number=int(input()) #입력값을 직접 받기"
   ]
  },
  {
   "cell_type": "code",
   "execution_count": 1,
   "id": "fcbd7a51-efa0-44fc-87d4-9638d75bc7c9",
   "metadata": {},
   "outputs": [
    {
     "name": "stdout",
     "output_type": "stream",
     "text": [
      "1\n",
      "3\n",
      "5\n",
      "7\n",
      "9\n"
     ]
    }
   ],
   "source": [
    "#continue 라는 명령어는 처음으로 돌아가서 다시 반복하라는 뜻이다 써먹어보도록 하자\n",
    "\n",
    "a=0\n",
    "while a<10:  #a가 10보다 작은 수 안에서\n",
    "    a=a+1    #하나씩 추가할껀데\n",
    "    if a%2==0: continue #만약 나머지가 0이면 밑에 실행하지말고 다시처음으로 돌아가라\n",
    "    print(a)    #여기까지 도달했으면 출력해라"
   ]
  },
  {
   "cell_type": "code",
   "execution_count": 2,
   "id": "ca84600c-9541-4851-b021-1ce0feaae4cb",
   "metadata": {},
   "outputs": [],
   "source": [
    "#while-else 는 break가 아닌 정상적으로 나올때 작동한다\n",
    "print(\"딱히 실행하진 않겠다\")"
   ]
  },
  {
   "cell_type": "code",
   "execution_count": 10,
   "id": "0d7feea5-e4d3-49ce-b602-708268b2be99",
   "metadata": {},
   "outputs": [
    {
     "name": "stdout",
     "output_type": "stream",
     "text": [
      "i=1,j=1\n",
      "i=1,j=2\n",
      "i=1,j=3\n",
      "여기에 도달했니? 13\n",
      "i=2,j=1\n",
      "i=2,j=2\n",
      "i=2,j=3\n",
      "여기에 도달했니? 23\n",
      "i=3,j=1\n",
      "i=3,j=2\n",
      "i=3,j=3\n",
      "여기에 도달했니? 33\n"
     ]
    }
   ],
   "source": [
    "#중첩 while문 이게 제일 재밌당 이걸 통해서 행력 만들어보자\n",
    "\n",
    "i=j=0\n",
    "\n",
    "while i<3:\n",
    "    i+=1\n",
    "    j=0\n",
    "    while j<3:  #만약 위에 j=0이 없다면 이미 j는 3이기 때문에 이 코드가 실행이 안되는 일이 생겼음\n",
    "        j+=1\n",
    "        print(\"i=%d,j=%d\"%(i,j))\n",
    "    print(f\"여기에 도달했니? {i}{j}\")\n",
    "#그렇다면 실험한번 해보자\n",
    "        "
   ]
  },
  {
   "cell_type": "markdown",
   "id": "7b4d3518-415a-4655-bc41-26588e58c506",
   "metadata": {},
   "source": [
    "## for문\n",
    "##### 좀더 직관적인 반복문\n"
   ]
  },
  {
   "cell_type": "code",
   "execution_count": 16,
   "id": "18631006-1c1c-4d18-9ff2-540d4dd7f905",
   "metadata": {},
   "outputs": [
    {
     "name": "stdout",
     "output_type": "stream",
     "text": [
      "3\n",
      "7\n",
      "11\n"
     ]
    }
   ],
   "source": [
    "a=[(1,2),(3,4),(5,6)]\n",
    "for (b,c) in a:\n",
    "    print(b+c)"
   ]
  },
  {
   "cell_type": "code",
   "execution_count": 19,
   "id": "20307c96-1c53-4bf0-95e2-7c9d3178a3d8",
   "metadata": {},
   "outputs": [
    {
     "name": "stdout",
     "output_type": "stream",
     "text": [
      "3번째 학생 64점으로 합격입니다.\n",
      "5번째 학생 85점으로 합격입니다.\n",
      "6번째 학생 100점으로 합격입니다.\n"
     ]
    }
   ],
   "source": [
    "#for과 if 를 잘 섞어 쓴 예시\n",
    "\n",
    "score =[12,43,64,23,85,100]\n",
    "number=0\n",
    "for i in score:\n",
    "    number+=1\n",
    "    if i <=60:\n",
    "        continue #다시 말하지만 continue는 다시 처음으로 돌아감을 의미하는데 어느 처음인지 모르니깐 코드로 살험해보자\n",
    "    print(f\"{number}번째 학생 {i}점으로 합격입니다.\")"
   ]
  },
  {
   "cell_type": "code",
   "execution_count": 37,
   "id": "f84f10a4-7049-4ba7-84c4-cedf168b4f1a",
   "metadata": {
    "scrolled": true
   },
   "outputs": [
    {
     "name": "stdout",
     "output_type": "stream",
     "text": [
      "\n",
      " 1단을 외자\n",
      "1 x 1 =  1,1 x 2 =  2,1 x 3 =  3,1 x 4 =  4,1 x 5 =  5,1 x 6 =  6,1 x 7 =  7,1 x 8 =  8,1 x 9 =  9,\n",
      " 2단을 외자\n",
      "2 x 1 =  2,2 x 2 =  4,2 x 3 =  6,2 x 4 =  8,2 x 5 =  10,2 x 6 =  12,2 x 7 =  14,2 x 8 =  16,2 x 9 =  18,\n",
      " 3단을 외자\n",
      "3 x 1 =  3,3 x 2 =  6,3 x 3 =  9,3 x 4 =  12,3 x 5 =  15,3 x 6 =  18,3 x 7 =  21,3 x 8 =  24,3 x 9 =  27,\n",
      " 4단을 외자\n",
      "4 x 1 =  4,4 x 2 =  8,4 x 3 =  12,4 x 4 =  16,4 x 5 =  20,4 x 6 =  24,4 x 7 =  28,4 x 8 =  32,4 x 9 =  36,\n",
      " 5단을 외자\n",
      "5 x 1 =  5,5 x 2 =  10,5 x 3 =  15,5 x 4 =  20,5 x 5 =  25,5 x 6 =  30,5 x 7 =  35,5 x 8 =  40,5 x 9 =  45,\n",
      " 6단을 외자\n",
      "6 x 1 =  6,6 x 2 =  12,6 x 3 =  18,6 x 4 =  24,6 x 5 =  30,6 x 6 =  36,6 x 7 =  42,6 x 8 =  48,6 x 9 =  54,\n",
      " 7단을 외자\n",
      "7 x 1 =  7,7 x 2 =  14,7 x 3 =  21,7 x 4 =  28,7 x 5 =  35,7 x 6 =  42,7 x 7 =  49,7 x 8 =  56,7 x 9 =  63,\n",
      " 8단을 외자\n",
      "8 x 1 =  8,8 x 2 =  16,8 x 3 =  24,8 x 4 =  32,8 x 5 =  40,8 x 6 =  48,8 x 7 =  56,8 x 8 =  64,8 x 9 =  72,\n",
      " 9단을 외자\n",
      "9 x 1 =  9,9 x 2 =  18,9 x 3 =  27,9 x 4 =  36,9 x 5 =  45,9 x 6 =  54,9 x 7 =  63,9 x 8 =  72,9 x 9 =  81,구구단 끝~\n"
     ]
    }
   ],
   "source": [
    "#한번만 for문을 통해서 구구단을 생성해보자\n",
    "\n",
    "for i in range(1,10):\n",
    "    print(\"\\n\",f\"{i}단을 외자\")\n",
    "    for j in range(1,10):\n",
    "        print(f\"{i} x {j} = \",i*j,end=\",\")\n",
    "print(\"구구단 끝~\")"
   ]
  },
  {
   "cell_type": "code",
   "execution_count": 49,
   "id": "7e515a51-efc6-48a8-90ba-792957e264b8",
   "metadata": {},
   "outputs": [
    {
     "name": "stdout",
     "output_type": "stream",
     "text": [
      "[3, 6, 9, 12]\n",
      "[3, 6, 9, 12]\n",
      "[3, 6, 9, 12]\n"
     ]
    }
   ],
   "source": [
    "#for 문과 list를 합쳐서 자료를 직과적으로 만들수도 있다\n",
    "#이건 기본 형식이지만\n",
    "\n",
    "a=[1,2,3,4]\n",
    "list1=[]\n",
    "for i in a:\n",
    "    list1.append(i*3)\n",
    "\n",
    "print(list1)\n",
    "\n",
    "#리스트 컴프리헨션을 이용하여 간단히 나타낼수 있다 쉽게 말하면 한줄 요약\n",
    "#리스트 컴프리헨션이라고 한다 -> list comprehension\n",
    "a=[1,2,3,4]\n",
    "list2=[i*3 for i in a]\n",
    "print(list2)\n",
    "\n",
    "#여기에 if 문까지 쓸수도 있다\n",
    "a=[1,2,3,4]\n",
    "list3=[i*3 for i in a if i%3==0]\n",
    "print(list3)"
   ]
  },
  {
   "cell_type": "code",
   "execution_count": 51,
   "id": "d9bc3c55-0794-4097-99b2-0fcb614b1497",
   "metadata": {},
   "outputs": [
    {
     "name": "stdout",
     "output_type": "stream",
     "text": [
      "0 apple\n",
      "1 banna\n",
      "2 orange\n",
      "3 grape\n"
     ]
    }
   ],
   "source": [
    "#enumerate 는 리스트의 인덱스도 이용하고 싶을때 사용한다 사실 위에서 헀지만 좀더 쉽게 이용하는 방법\n",
    "\n",
    "fruites=['apple','banna','orange','grape']\n",
    "\n",
    "for i ,j in enumerate(fruites):  #첫번째 변수는 인덱스 숫자 2번째 변수는 값(fruites,1) 이렇게 쓰면 인덱스 1부터 시작이라는 뜻\n",
    "    print(i,j)"
   ]
  },
  {
   "cell_type": "code",
   "execution_count": 54,
   "id": "6e14ee83-35fe-44bf-b819-0dcb0982d1b9",
   "metadata": {},
   "outputs": [
    {
     "name": "stdout",
     "output_type": "stream",
     "text": [
      "apple의 색깔은 red 입니다\n",
      "banna의 색깔은 yellow 입니다\n",
      "orange의 색깔은 orange 입니다\n",
      "grape의 색깔은 green 입니다\n"
     ]
    }
   ],
   "source": [
    "#zip 함수는 리스트 2개를 튜플 느낌으로 변수 사용하고 싶을때 쓰면 된다 3개이상도 가능\n",
    "\n",
    "fruites=['apple','banna','orange','grape']\n",
    "color = ['red','yellow','orange','green']\n",
    "\n",
    "for i,j in zip(fruites,color):\n",
    "    print(f\"{i}의 색깔은 {j} 입니다\")\n"
   ]
  },
  {
   "cell_type": "code",
   "execution_count": null,
   "id": "3468a673-0976-4fa6-ba69-b5f19bb9b58a",
   "metadata": {},
   "outputs": [],
   "source": []
  },
  {
   "cell_type": "code",
   "execution_count": null,
   "id": "37637e2c-17d5-4730-82ef-daaf5fe10232",
   "metadata": {},
   "outputs": [],
   "source": []
  }
 ],
 "metadata": {
  "kernelspec": {
   "display_name": "Python 3 (ipykernel)",
   "language": "python",
   "name": "python3"
  },
  "language_info": {
   "codemirror_mode": {
    "name": "ipython",
    "version": 3
   },
   "file_extension": ".py",
   "mimetype": "text/x-python",
   "name": "python",
   "nbconvert_exporter": "python",
   "pygments_lexer": "ipython3",
   "version": "3.13.5"
  }
 },
 "nbformat": 4,
 "nbformat_minor": 5
}
