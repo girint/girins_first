{
 "cells": [
  {
   "cell_type": "markdown",
   "id": "7bea8136-1c93-43f4-ab25-53dbe65245ed",
   "metadata": {},
   "source": [
    "## 튜플 다루기"
   ]
  },
  {
   "cell_type": "code",
   "execution_count": 2,
   "id": "9bbd40d0-eb10-44c7-9f1a-7074c3c2ca7d",
   "metadata": {},
   "outputs": [
    {
     "name": "stdout",
     "output_type": "stream",
     "text": [
      "1\n",
      "2\n",
      "a\n",
      "b\n"
     ]
    }
   ],
   "source": [
    "#인덱싱\n",
    "t1=(1,2,'a','b')\n",
    "\n",
    "print(t1[0])\n",
    "print(t1[1])\n",
    "print(t1[2])\n",
    "print(t1[3])\n",
    "    "
   ]
  },
  {
   "cell_type": "code",
   "execution_count": 4,
   "id": "71ddb3b8-95b5-45aa-b78c-a42fdb728fce",
   "metadata": {},
   "outputs": [
    {
     "name": "stdout",
     "output_type": "stream",
     "text": [
      "(1, 2)\n",
      "('a', 'b')\n"
     ]
    }
   ],
   "source": [
    "#슬라이싱\n",
    "print(t1[:2])\n",
    "print(t1[2:])"
   ]
  },
  {
   "cell_type": "code",
   "execution_count": 12,
   "id": "33be36a8-7787-4e37-9dda-90eeab94be3f",
   "metadata": {},
   "outputs": [
    {
     "name": "stdout",
     "output_type": "stream",
     "text": [
      "2\n",
      "(1, 2, 'a', 'b', 3, 4)\n",
      "(3, 4, 3, 4)\n"
     ]
    }
   ],
   "source": [
    "#연산하기\n",
    "t2=(3,4)\n",
    "t3=t1+t2 #합\n",
    "t4=t2*2 #반복\n",
    "\n",
    "print(len(t2)) #개수\n",
    "print(t3)\n",
    "print(t4)"
   ]
  },
  {
   "cell_type": "markdown",
   "id": "8286802a-e335-4088-bbef-a45141af73a1",
   "metadata": {},
   "source": [
    "## 딕셔너리의 역할\n",
    "##### key 와 value가 한쌍이다 이를 이용해서 key에 맞는 정보를 찾아내기 용이하다"
   ]
  },
  {
   "cell_type": "code",
   "execution_count": 14,
   "id": "71347f0b-4872-49af-ab83-c7e4043d3714",
   "metadata": {},
   "outputs": [
    {
     "data": {
      "text/plain": [
       "'백기림'"
      ]
     },
     "execution_count": 14,
     "metadata": {},
     "output_type": "execute_result"
    }
   ],
   "source": [
    "d1={\"이름\":\"백기림\",\"품종\":\"강아지\",\"나이\":27}\n",
    "d1[\"이름\"]"
   ]
  },
  {
   "cell_type": "code",
   "execution_count": 33,
   "id": "be2ed39a-3a17-4e49-9d5b-6f871bb378e5",
   "metadata": {},
   "outputs": [
    {
     "data": {
      "text/plain": [
       "dict_items([('이름', '백기림'), ('품종', '강아지'), ('나이', 27)])"
      ]
     },
     "execution_count": 33,
     "metadata": {},
     "output_type": "execute_result"
    }
   ],
   "source": [
    "d1.keys() #키값만 모으기 -> values 도 가능\n",
    "d1.items() #모든 아이템값을 리스트로 묶어서 제공\n",
    "#d1.clear() 모든 아이템 제거 하지만 타입은 살아있음"
   ]
  },
  {
   "cell_type": "code",
   "execution_count": 52,
   "id": "0177b154-d633-4bc6-9f2f-12516af87d67",
   "metadata": {},
   "outputs": [
    {
     "name": "stdout",
     "output_type": "stream",
     "text": [
      "이름품종나이\n"
     ]
    }
   ],
   "source": [
    "t=\"\"\n",
    "for i in d1.keys():\n",
    "    t=t+i\n",
    "t.replace('\\n','\\,')\n",
    "print(t)"
   ]
  },
  {
   "cell_type": "code",
   "execution_count": null,
   "id": "e214f418-3da7-4ed8-8041-a4bbd9a28d8c",
   "metadata": {},
   "outputs": [],
   "source": [
    "t1.get() 에러가 없고 none 나오기 때문에 이것이 좀더 효율적이다 왜냐 에러 날바에 이게 낫지 \n",
    "디폴드 값도 지정해줄수 있음\n",
    "get('key', 없으면 여기에 기본값 설정 해주기)"
   ]
  }
 ],
 "metadata": {
  "kernelspec": {
   "display_name": "Python 3 (ipykernel)",
   "language": "python",
   "name": "python3"
  },
  "language_info": {
   "codemirror_mode": {
    "name": "ipython",
    "version": 3
   },
   "file_extension": ".py",
   "mimetype": "text/x-python",
   "name": "python",
   "nbconvert_exporter": "python",
   "pygments_lexer": "ipython3",
   "version": "3.13.5"
  }
 },
 "nbformat": 4,
 "nbformat_minor": 5
}
