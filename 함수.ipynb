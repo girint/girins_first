{
 "cells": [
  {
   "cell_type": "markdown",
   "id": "d37338f3-d0d5-46bb-a700-4c850cda979f",
   "metadata": {
    "jp-MarkdownHeadingCollapsed": true
   },
   "source": [
    "## 함수에 대해 본격적으로 들어가 보자\n",
    "###### 그렇다면 함수가 무엇인가\n",
    "###### 가치있는 반복을 지정해주는 것이라고 생각하면 쉬울것이다"
   ]
  },
  {
   "cell_type": "code",
   "execution_count": 7,
   "id": "2d77052e-9c2a-4bd0-8717-d49c2eceb3ee",
   "metadata": {},
   "outputs": [
    {
     "name": "stdout",
     "output_type": "stream",
     "text": [
      "1\n",
      "print 랑 같은 기능을 하지만 다른 문자를 사용하게 설정해놓음 \n"
     ]
    }
   ],
   "source": [
    "#기본구조\n",
    "\n",
    "def babo(t): #매개변수가 여러개여도 상관없지만 밑에서 다 써줘야한다\n",
    "    print(t)\n",
    "\n",
    "babo(1)\n",
    "babo(\"print 랑 같은 기능을 하지만 다른 문자를 사용하게 설정해놓음 \")"
   ]
  },
  {
   "cell_type": "code",
   "execution_count": 9,
   "id": "99c225ed-72f3-459b-84ca-a4130344c885",
   "metadata": {},
   "outputs": [
    {
     "data": {
      "text/plain": [
       "5"
      ]
     },
     "execution_count": 9,
     "metadata": {},
     "output_type": "execute_result"
    }
   ],
   "source": [
    "def add(a,b):\n",
    "    return a+b\n",
    "\n",
    "add(2,3)"
   ]
  },
  {
   "cell_type": "code",
   "execution_count": 12,
   "id": "03ed34ab-b493-418f-8b0c-06042c00badf",
   "metadata": {},
   "outputs": [
    {
     "name": "stdout",
     "output_type": "stream",
     "text": [
      "hi\n"
     ]
    }
   ],
   "source": [
    "def say():\n",
    "    print(\"hi\")\n",
    "say()"
   ]
  },
  {
   "cell_type": "code",
   "execution_count": 13,
   "id": "99795093-d762-4790-a792-dec827db2967",
   "metadata": {},
   "outputs": [
    {
     "name": "stdout",
     "output_type": "stream",
     "text": [
      "5\n",
      "5\n",
      "None\n"
     ]
    }
   ],
   "source": [
    "#조금 주의해야할 것이 def는 반환값을 설정해줘야지 값을 갖게 되는것이다 print는 반환값이 안닌 출력값으로 인지해야한다\n",
    "def add1(a,b):\n",
    "    return a+b\n",
    "\n",
    "def add2(a,b):\n",
    "    print(a+b)\n",
    "\n",
    "print(add1(2,3))\n",
    "print(add2(2,3))\n"
   ]
  },
  {
   "cell_type": "code",
   "execution_count": 15,
   "id": "76ed702e-63db-492a-8681-fe27455aff1b",
   "metadata": {},
   "outputs": [
    {
     "name": "stdout",
     "output_type": "stream",
     "text": [
      "-1\n",
      "-2\n"
     ]
    }
   ],
   "source": [
    "#입력값을 널을 때 매개변수에 직접 써써 넣어줄수 있다\n",
    "def minus1(a,b):\n",
    "    return a-b\n",
    "print(minus1(a=2,b=3))\n",
    "print(minus1(b=4,a=2)) #순서가 중요할 땐 매개변수에 직접주는 것이 이득이다"
   ]
  },
  {
   "cell_type": "code",
   "execution_count": 17,
   "id": "f5111297-77e6-4115-9584-bf312bccc94d",
   "metadata": {},
   "outputs": [],
   "source": [
    "#그렇다면 매개변수가 2개이상 또는 몇 개가 나올지 모를때 *을 써주면 된다 그러면 tuple 로 정리가 되어진다\n",
    "\n",
    "def add_all(*arg):\n",
    "    result=0\n",
    "    for i in arg:\n",
    "        result= result+i\n",
    "    return result"
   ]
  },
  {
   "cell_type": "code",
   "execution_count": 1,
   "id": "2da8d7da-df2e-4b3e-814d-f64de27d85dd",
   "metadata": {},
   "outputs": [
    {
     "ename": "NameError",
     "evalue": "name 'add_all' is not defined",
     "output_type": "error",
     "traceback": [
      "\u001b[1;31m---------------------------------------------------------------------------\u001b[0m",
      "\u001b[1;31mNameError\u001b[0m                                 Traceback (most recent call last)",
      "Cell \u001b[1;32mIn[1], line 1\u001b[0m\n\u001b[1;32m----> 1\u001b[0m add_all(\u001b[38;5;241m1\u001b[39m,\u001b[38;5;241m2\u001b[39m,\u001b[38;5;241m2\u001b[39m,\u001b[38;5;241m23\u001b[39m,\u001b[38;5;241m23\u001b[39m,\u001b[38;5;241m3\u001b[39m,\u001b[38;5;241m3\u001b[39m,\u001b[38;5;241m3\u001b[39m,\u001b[38;5;241m4\u001b[39m,\u001b[38;5;241m5\u001b[39m,\u001b[38;5;241m5\u001b[39m,\u001b[38;5;241m5\u001b[39m)\n",
      "\u001b[1;31mNameError\u001b[0m: name 'add_all' is not defined"
     ]
    }
   ],
   "source": [
    "add_all(1,2,2,23,23,3,3,3,4,5,5,5)"
   ]
  },
  {
   "cell_type": "code",
   "execution_count": null,
   "id": "a82ca0b8-545c-4dba-8a2d-bcf30e4d3f77",
   "metadata": {},
   "outputs": [],
   "source": []
  },
  {
   "cell_type": "markdown",
   "id": "94613b80-4bc4-4741-8e1f-a47be4657c1d",
   "metadata": {},
   "source": [
    "## lambda에 대해서 생각해보자\n",
    "###### 람다는 간단한 함수이거나 함수를 쓸수 없을때 쓴다\n",
    "###### 컴프리핸션 같은 역할이라고 봐도 되나?"
   ]
  },
  {
   "cell_type": "code",
   "execution_count": 2,
   "id": "530fda3f-193b-4262-86e7-717d268c4634",
   "metadata": {},
   "outputs": [],
   "source": [
    "add= lambda a,b: a+b"
   ]
  },
  {
   "cell_type": "code",
   "execution_count": 4,
   "id": "1de676dd-0bb2-4c45-997d-dbc5aca52d7c",
   "metadata": {},
   "outputs": [
    {
     "data": {
      "text/plain": [
       "5"
      ]
     },
     "execution_count": 4,
     "metadata": {},
     "output_type": "execute_result"
    }
   ],
   "source": [
    "add(2,3)"
   ]
  },
  {
   "cell_type": "code",
   "execution_count": 6,
   "id": "3e8a55bb-3389-4c5e-ad5a-d659c634d7d9",
   "metadata": {},
   "outputs": [
    {
     "data": {
      "text/plain": [
       "2.5"
      ]
     },
     "execution_count": 6,
     "metadata": {},
     "output_type": "execute_result"
    }
   ],
   "source": [
    "beteen=lambda a,b : (a+b)/2\n",
    "beteen(2,3)"
   ]
  },
  {
   "cell_type": "code",
   "execution_count": 8,
   "id": "74b34ec2-cfac-4e42-801d-021f08455d3a",
   "metadata": {},
   "outputs": [
    {
     "name": "stdout",
     "output_type": "stream",
     "text": [
      "\n",
      "두 숫자를 더하는 함수\n",
      "\n",
      "parameters:\n",
      "a (int,float) : 첫 번째 숫자\n",
      "b (int,float) : 두 번째 숫자\n",
      "\n",
      "returns:\n",
      "int, float : 두 숫자의 합\n",
      "\n"
     ]
    }
   ],
   "source": [
    "#독스트링 -> 설명을 문서화 하는 방법\n",
    "\n",
    "def add (a,b):\n",
    "    \"\"\"\n",
    "    두 숫자를 더하는 함수\n",
    "\n",
    "    parameters:\n",
    "    a (int,float) : 첫 번째 숫자\n",
    "    b (int,float) : 두 번째 숫자\n",
    "\n",
    "    returns:\n",
    "    int, float : 두 숫자의 합\n",
    "    \"\"\"\n",
    "\n",
    "    return a+b\n",
    "\n",
    "add(2,3) # 이러면 독스트링은 나오지 않지만\n",
    "print(add.__doc__) #이렇게 치면 설명값이 나온다 큰따옴표 3개 부분이 독스트링 부분"
   ]
  },
  {
   "cell_type": "markdown",
   "id": "c3b801af-2e05-495b-955f-02563d9f6a22",
   "metadata": {},
   "source": [
    "## 간단한 계산기 만들기"
   ]
  },
  {
   "cell_type": "code",
   "execution_count": 11,
   "id": "d5db0003-c9cd-401d-a1ad-9d5f9bcaea12",
   "metadata": {},
   "outputs": [
    {
     "name": "stdin",
     "output_type": "stream",
     "text": [
      "첫번째 숫자를 입력하세여:  34\n",
      "두번째 숫자를 입력하세여:  7\n"
     ]
    },
    {
     "name": "stdout",
     "output_type": "stream",
     "text": [
      "두 수의 합은 41.0 입니다\n",
      "두 수의 차은 27.0 입니다\n",
      "두 수의 곱은 238.0 입니다\n",
      "두 수를 나누면 4.9 입니다\n"
     ]
    }
   ],
   "source": [
    "a=float(input(\"첫번째 숫자를 입력하세여: \"))\n",
    "b=float(input(\"두번째 숫자를 입력하세여: \"))\n",
    "\n",
    "print(\"두 수의 합은 %0.1f 입니다\" %(a+b))\n",
    "print(\"두 수의 차은 %0.1f 입니다\" %(a-b))\n",
    "print(\"두 수의 곱은 %0.1f 입니다\" %(a*b))\n",
    "print(\"두 수를 나누면 %0.1f 입니다\" %(a/b))\n",
    "      "
   ]
  }
 ],
 "metadata": {
  "kernelspec": {
   "display_name": "Python 3 (ipykernel)",
   "language": "python",
   "name": "python3"
  },
  "language_info": {
   "codemirror_mode": {
    "name": "ipython",
    "version": 3
   },
   "file_extension": ".py",
   "mimetype": "text/x-python",
   "name": "python",
   "nbconvert_exporter": "python",
   "pygments_lexer": "ipython3",
   "version": "3.13.5"
  }
 },
 "nbformat": 4,
 "nbformat_minor": 5
}
